{
  "nbformat": 4,
  "nbformat_minor": 0,
  "metadata": {
    "kernelspec": {
      "display_name": "Python 3",
      "language": "python",
      "name": "python3"
    },
    "language_info": {
      "codemirror_mode": {
        "name": "ipython",
        "version": 3
      },
      "file_extension": ".py",
      "mimetype": "text/x-python",
      "name": "python",
      "nbconvert_exporter": "python",
      "pygments_lexer": "ipython3",
      "version": "3.6.5"
    },
    "colab": {
      "provenance": []
    }
  },
  "cells": [
    {
      "cell_type": "markdown",
      "metadata": {
        "id": "KZH16FH8UCst"
      },
      "source": [
        "## Графы, библиотека ```networkx```\n",
        "\n",
        "Модель, которая не только описывает элементы системы, но и фиксирует связи между ними, называется **графом** или **сетью**. В терминах графов может быть описана любая система, в которой можно выделить\n",
        "\n",
        "+ элементы (в графе они называются узлами = вершинами = nodes = vertices)\n",
        "+ связи между ними (они именуются рёбрами = связями = edges = relations).\n",
        "\n",
        "Граф -- это визуализация сложного объекта. Кроме того, граф — это математический объект, в котором мы можем довольно много всего посчитать, и таким образом установить разные закономерности, доказать гипотезу. Это называется **сетевым анализом**.\n",
        "\n",
        "Для того, чтобы превращать данные (любые формализованные данные) в граф, можно использовать библиотеку `networkx`. Вот ее [документация](https://networkx.github.io/documentation/latest/index.html). Это не единственная библиотека для работы с графами в питоне ([вот полный список](https://wiki.python.org/moin/PythonGraphLibraries)), но, кажется, самая простая и удобная."
      ]
    },
    {
      "cell_type": "code",
      "metadata": {
        "id": "p3pCTcXYUCtd"
      },
      "source": [
        "import networkx as nx"
      ],
      "execution_count": 123,
      "outputs": []
    },
    {
      "cell_type": "markdown",
      "metadata": {
        "id": "wuE3TqwfUCtg"
      },
      "source": [
        "#### Создаем граф\n",
        "\n",
        "Первая ситуация: у нас есть какие-то данные, и нам нужно превратить их в граф. Тогда уместно создать сначала пустой объект графа и туда постепенно что-то добавлять."
      ]
    },
    {
      "cell_type": "code",
      "metadata": {
        "id": "TUHGoGfBUCtj"
      },
      "source": [
        "G = nx.Graph() # пустой граф"
      ],
      "execution_count": 124,
      "outputs": []
    },
    {
      "cell_type": "markdown",
      "source": [
        "Добавляем узлы:"
      ],
      "metadata": {
        "id": "WvDkNWXwmQIp"
      }
    },
    {
      "cell_type": "code",
      "metadata": {
        "id": "8qTDgRHwlv0m"
      },
      "source": [
        "G.add_node(1) # добавляем один узел"
      ],
      "execution_count": 125,
      "outputs": []
    },
    {
      "cell_type": "code",
      "metadata": {
        "id": "zIBMQSzglwxC"
      },
      "source": [
        "G.add_nodes_from([2 ,3, 4, 5, 6]) # добавляем несколько узлов сразу"
      ],
      "execution_count": 126,
      "outputs": []
    },
    {
      "cell_type": "code",
      "metadata": {
        "id": "OvhrzAcplxIE"
      },
      "source": [
        "G.add_nodes_from([(4, {\"color\": \"red\"}), (5, {\"color\": \"blue\"}),])"
      ],
      "execution_count": 127,
      "outputs": []
    },
    {
      "cell_type": "code",
      "metadata": {
        "id": "op9cGOXJlxU0"
      },
      "source": [
        "G.remove_node(6) # удаляем узел номер 6"
      ],
      "execution_count": 128,
      "outputs": []
    },
    {
      "cell_type": "code",
      "metadata": {
        "id": "ji5fO5a3lxfa"
      },
      "source": [
        "# То, как мы обозначаем узлы (1, 2, 3 ...) -- это их id. Но вообще-то мы можем приклеить к ним и полноценные лейблы:\n",
        "G.add_node(1, label=\"node_1\")"
      ],
      "execution_count": 129,
      "outputs": []
    },
    {
      "cell_type": "markdown",
      "metadata": {
        "id": "fQ3PSimYUCtm"
      },
      "source": [
        "Теперь укажем, какие узлы связаны между собой рёбрами."
      ]
    },
    {
      "cell_type": "code",
      "metadata": {
        "id": "aWBGGfZDUCto"
      },
      "source": [
        "G.add_edge(1,2) # ребро между узлами 1 и 3\n",
        "e = (2, 3)\n",
        "G.add_edge(*e)\n",
        "G.add_edges_from([(1, 3), (1, 4), (1, 5), (4, 5), (3, 5)]) # сразу несколько рёбер\n",
        "\n",
        "G.remove_edge(4, 5) # удаляем ребро"
      ],
      "execution_count": 130,
      "outputs": []
    },
    {
      "cell_type": "code",
      "metadata": {
        "colab": {
          "base_uri": "https://localhost:8080/"
        },
        "id": "TBESGYlPUCtq",
        "outputId": "63141716-7b8b-4497-bde3-4dd08d0ed7ea"
      },
      "source": [
        "print('узлы', G.nodes())\n",
        "print('рёбра', G.edges())"
      ],
      "execution_count": 131,
      "outputs": [
        {
          "output_type": "stream",
          "name": "stdout",
          "text": [
            "узлы [1, 2, 3, 4, 5]\n",
            "рёбра [(1, 2), (1, 3), (1, 4), (1, 5), (2, 3), (3, 5)]\n"
          ]
        }
      ]
    },
    {
      "cell_type": "code",
      "source": [
        "G.number_of_nodes()"
      ],
      "metadata": {
        "colab": {
          "base_uri": "https://localhost:8080/"
        },
        "id": "MkQsQO9bp4pn",
        "outputId": "054328fe-d15b-4e3d-af41-b2529c8c3e33"
      },
      "execution_count": 132,
      "outputs": [
        {
          "output_type": "execute_result",
          "data": {
            "text/plain": [
              "5"
            ]
          },
          "metadata": {},
          "execution_count": 132
        }
      ]
    },
    {
      "cell_type": "code",
      "source": [
        "G.number_of_edges()"
      ],
      "metadata": {
        "colab": {
          "base_uri": "https://localhost:8080/"
        },
        "outputId": "61f50706-7c92-4af4-eb36-81f76002e46b",
        "id": "JR3LeIkJqBEr"
      },
      "execution_count": 133,
      "outputs": [
        {
          "output_type": "execute_result",
          "data": {
            "text/plain": [
              "6"
            ]
          },
          "metadata": {},
          "execution_count": 133
        }
      ]
    },
    {
      "cell_type": "code",
      "metadata": {
        "colab": {
          "base_uri": "https://localhost:8080/"
        },
        "id": "l3qohYypUCtw",
        "outputId": "bfd45b5d-ebf2-4b14-c673-288aaa83479c"
      },
      "source": [
        "# сколько ребер исходят из узла 5\n",
        "G.degree(5)"
      ],
      "execution_count": 134,
      "outputs": [
        {
          "output_type": "execute_result",
          "data": {
            "text/plain": [
              "2"
            ]
          },
          "metadata": {},
          "execution_count": 134
        }
      ]
    },
    {
      "cell_type": "code",
      "metadata": {
        "colab": {
          "base_uri": "https://localhost:8080/"
        },
        "id": "S2dRoEx9UCty",
        "outputId": "cf4944b0-eb9b-407c-df2c-7c28f2d78cf3"
      },
      "source": [
        "# число ребер для каждого узла\n",
        "for node in G.nodes():\n",
        "    print (node, G.degree(node))"
      ],
      "execution_count": 135,
      "outputs": [
        {
          "output_type": "stream",
          "name": "stdout",
          "text": [
            "1 4\n",
            "2 2\n",
            "3 3\n",
            "4 1\n",
            "5 2\n"
          ]
        }
      ]
    },
    {
      "cell_type": "code",
      "source": [
        "list(G.adj[5])  # узлы-соседи узла 5 (те узлы, которые связаны с ним ребром)"
      ],
      "metadata": {
        "colab": {
          "base_uri": "https://localhost:8080/"
        },
        "id": "0yuRjchRrbxK",
        "outputId": "6fc4f3d7-299e-4121-e57a-e0d0e16d4e1b"
      },
      "execution_count": 136,
      "outputs": [
        {
          "output_type": "execute_result",
          "data": {
            "text/plain": [
              "[1, 3]"
            ]
          },
          "metadata": {},
          "execution_count": 136
        }
      ]
    },
    {
      "cell_type": "code",
      "source": [
        "list(G.neighbors(5)) # узлы-соседи узла 5"
      ],
      "metadata": {
        "colab": {
          "base_uri": "https://localhost:8080/"
        },
        "outputId": "61936861-c52c-4456-a1a2-17dbd57c61d6",
        "id": "Q13GEvLIrjN4"
      },
      "execution_count": 137,
      "outputs": [
        {
          "output_type": "execute_result",
          "data": {
            "text/plain": [
              "[1, 3]"
            ]
          },
          "metadata": {},
          "execution_count": 137
        }
      ]
    },
    {
      "cell_type": "markdown",
      "metadata": {
        "id": "IarP4c4KUCt1"
      },
      "source": [
        "Кроме того, что графы отражают связи между узлами, они могут отражать характер этой связи. В теории графов выделяются специальные взвешенные графы, у которых между узлами не просто есть ребро, но у этого ребра ещё есть вес. Взвешенным графом, например, может быть граф персонажей какой-то пьесы, в котором мы учитываем не только то, что персонажи этой пьесы находятся вместе на сцене (ребро), но и сколько раз они вступают в диалог (вес ребра)."
      ]
    },
    {
      "cell_type": "code",
      "metadata": {
        "id": "QwqG4ZbpUCt5"
      },
      "source": [
        "# вес ребра можно добавить так:\n",
        "\n",
        "G.add_edge(1, 3, weight=4)"
      ],
      "execution_count": 138,
      "outputs": []
    },
    {
      "cell_type": "markdown",
      "metadata": {
        "id": "AdzKJGEGUCt6"
      },
      "source": [
        "Отдельно выделяются направленные графы, которые отражают как наличие, так и направление связи. Например, граф переписки может отражать направление связи, кто кому писал. Или, например, можно отражать направление лексических/грамматических переходов. Такой граф задаётся как специальный тип объекта:"
      ]
    },
    {
      "cell_type": "code",
      "metadata": {
        "id": "uAv9Wgg7UCt7"
      },
      "source": [
        "dg = nx.DiGraph()\n",
        "dg.add_weighted_edges_from([(1,4,0.5), (3,1,0.75)]) # от кого -- кому и вес ребра"
      ],
      "execution_count": 139,
      "outputs": []
    },
    {
      "cell_type": "markdown",
      "metadata": {
        "id": "yq7iNff1UCt8"
      },
      "source": [
        "Итак, суммируем. Графы бывают:\n",
        "\n",
        "+ ориентированные (направленные) и неориентированные (связи-стрелочки vs обычные связи)\n",
        "+ связные и несвязные (все узлы связаны vs есть узлы, которые оторваны от основного графа).\n",
        "+ взвешенные и невзвешенные (связи имеют некоторое числовое значение или нет)\n"
      ]
    },
    {
      "cell_type": "markdown",
      "source": [
        "Задать разные виды графов:\n",
        "\n",
        "+ ```Graph``` - обычный граф, две вершины могут быть соединены 1 ребром, это ребро обозначает обоюдную связь\n",
        "+ ```DiGraph``` - направленный граф, связи имеют направление\n",
        "+ ```MultiGraph``` - граф, где две вершины могут быть соединены разными параллельными ребрами (обоюдными)\n",
        "+ ```MultiDiGraph``` - направленный граф с возможностью нескольких параллельных ребер\n"
      ],
      "metadata": {
        "id": "Nz449HUbxTBL"
      }
    },
    {
      "cell_type": "markdown",
      "metadata": {
        "id": "mi6hanRSUCt9"
      },
      "source": [
        "#### Сохраняем и подгружаем граф\n",
        "\n",
        "Когда граф построен, его можно сохранить в каком-нибудь специальном формате.\n",
        "\n",
        "+ csv-таблица узлов/ребер\n",
        "+ gml (Graph Modelling Language) — простейший текстовый формат записи графа\n",
        "+ graphml — основанный на XML формат для записи графов\n",
        "+ gexf (Graph Exchange XML Format) — также основан на XML, позволяет описывать не только структуру и элементы графа, но и метаданные, иерархию, динамику — в общем, самый продвинутый формат\n",
        "\n",
        "Чтобы сохранить граф в виде файла в формате .gexf, достаточно вот такого кода:"
      ]
    },
    {
      "cell_type": "code",
      "metadata": {
        "id": "xiG0qUr6UCt-"
      },
      "source": [
        "nx.write_gexf(G, 'graph_file.gexf')"
      ],
      "execution_count": 140,
      "outputs": []
    },
    {
      "cell_type": "markdown",
      "metadata": {
        "id": "Ff0JFfiRUCt_"
      },
      "source": [
        "Загрузить данные из этого формата можно тоже одной строчкой:"
      ]
    },
    {
      "cell_type": "code",
      "metadata": {
        "id": "HTuAaC0YUCuB"
      },
      "source": [
        "G1 = nx.read_gexf('graph_file.gexf')"
      ],
      "execution_count": 141,
      "outputs": []
    },
    {
      "cell_type": "markdown",
      "metadata": {
        "id": "1wjk6NSjUCuD"
      },
      "source": [
        "#### Визуализация\n",
        "\n",
        "Визуализируем граф с помощью уже знакомого нам `matplotlib` (но есть и [другие способы визуализации](https://networkx.github.io/documentation/networkx-2.2/reference/drawing.html) графов в питоне)."
      ]
    },
    {
      "cell_type": "code",
      "source": [
        "DG = nx.DiGraph()\n",
        "\n",
        "DG.add_edges_from([('blue', 'navy'), ('green', 'blue'), ('navy', 'black'), ('black', 'blue')])"
      ],
      "metadata": {
        "id": "ArdJ10qrxQGa"
      },
      "execution_count": 142,
      "outputs": []
    },
    {
      "cell_type": "code",
      "metadata": {
        "colab": {
          "base_uri": "https://localhost:8080/",
          "height": 248
        },
        "id": "KIKazr8HUCuE",
        "outputId": "1c9c58e3-f24e-480e-9f96-1fe22d5a26db"
      },
      "source": [
        "import matplotlib.pyplot as plt \n",
        "\n",
        "#надо выбрать способ \"укладки\" графа: random_layout, shell_layout, spring_layout\n",
        "pos=nx.shell_layout(DG)\n",
        "\n",
        "nx.draw_networkx_nodes(DG, pos, node_color='red', node_size=10) \n",
        "nx.draw_networkx_edges(DG, pos, edge_color='blue')\n",
        "nx.draw_networkx_labels(DG, pos, font_size=10)\n",
        "plt.axis('off') \n",
        "plt.show()"
      ],
      "execution_count": 144,
      "outputs": [
        {
          "output_type": "display_data",
          "data": {
            "text/plain": [
              "<Figure size 432x288 with 1 Axes>"
            ],
            "image/png": "[encoded data removed]"
          },
          "metadata": {}
        }
      ]
    },
    {
      "cell_type": "markdown",
      "source": [
        "Давайте изобразим [граф концепта DECEIT из CLICS](https://clics.clld.org/graphs/subgraph_13)"
      ],
      "metadata": {
        "id": "A0mRoNxL4fPE"
      }
    },
    {
      "cell_type": "code",
      "source": [
        "DECEIT = nx.Graph()\n",
        "\n",
        "DECEIT.add_weighted_edges_from([('SLEEP', 'LIE (MISLEAD)', 3), ('LIE (MISLEAD)', 'PERJURY', 13), ('LIE (MISLEAD)', 'DECEIT', 43), ('PERJURY', 'DECEIT', 8), ('DECEIT', 'BETRAY', 6), ('BETRAY', 'SELL', 25), ('SELL', 'GIVE', 27), ('GIVE', 'BETRAY', 9), ('DECEIT', 'WRONG', 5), ('WRONG', 'BAD', 27), ('WRONG', 'CROOKED', 12), ('WRONG', 'GUILTY', 33), ('WRONG', 'FAULT', 26), ('WRONG', 'MISS (A TARGET)', 5), ('WRONG', 'MISTAKE', 37), ('MISTAKE', 'CROOKED', 3), ('MISTAKE', 'FAULT', 71), ('MISTAKE', 'MISS (A TARGET)', 13), ('MISS (A TARGET)', 'FAULT', 4), ('FAULT', 'GUILTY', 9)])"
      ],
      "metadata": {
        "id": "xxvQ85Ys40AQ"
      },
      "execution_count": 145,
      "outputs": []
    },
    {
      "cell_type": "code",
      "metadata": {
        "colab": {
          "base_uri": "https://localhost:8080/",
          "height": 846
        },
        "outputId": "7e1f0b74-ab02-4b29-ccfc-8eb9226c7b48",
        "id": "a5ooku4m4a0m"
      },
      "source": [
        "import matplotlib.pyplot as plt \n",
        "\n",
        "#надо выбрать способ \"укладки\" графа: random_layout, shell_layout, spring_layout\n",
        "pos=nx.spring_layout(DECEIT)\n",
        "\n",
        "plt.figure(figsize=(15, 15))\n",
        "\n",
        "nx.draw_networkx_nodes(DECEIT, pos, node_size=10) \n",
        "labels = nx.get_edge_attributes(DECEIT,'weight')\n",
        "nx.draw_networkx_edge_labels(DECEIT, pos, edge_labels=labels)\n",
        "nx.draw_networkx_edges(DECEIT, pos, alpha=0.3, edge_color='blue')\n",
        "nx.draw_networkx_labels(DECEIT, pos, font_size=10, font_weight='bold')\n",
        "plt.axis('off') \n",
        "plt.show()"
      ],
      "execution_count": 91,
      "outputs": [
        {
          "output_type": "display_data",
          "data": {
            "text/plain": [
              "<Figure size 1080x1080 with 1 Axes>"
            ],
            "image/png": "[encoded data removed]"
          },
          "metadata": {}
        }
      ]
    },
    {
      "cell_type": "markdown",
      "metadata": {
        "id": "zRAxBanAUCuF"
      },
      "source": [
        "#### Сетевой анализ\n",
        "\n",
        "Что мы можем узнать про граф?"
      ]
    },
    {
      "cell_type": "code",
      "metadata": {
        "colab": {
          "base_uri": "https://localhost:8080/"
        },
        "id": "cfjJr37oUCuG",
        "outputId": "296679fc-5ef8-4af9-ef0b-08533532b961"
      },
      "source": [
        "# Диаметр графа, самый длинный кратчайший путь от одной вершины до другой\n",
        "print(nx.diameter(DECEIT))"
      ],
      "execution_count": 101,
      "outputs": [
        {
          "output_type": "stream",
          "name": "stdout",
          "text": [
            "4\n"
          ]
        }
      ]
    },
    {
      "cell_type": "code",
      "source": [
        "print('Среднее расстояние: ', nx.average_shortest_path_length(DECEIT))"
      ],
      "metadata": {
        "colab": {
          "base_uri": "https://localhost:8080/"
        },
        "id": "DfBnqgve_8j4",
        "outputId": "f61f59a3-b6d6-4a2a-8a43-3d80735dc314"
      },
      "execution_count": 103,
      "outputs": [
        {
          "output_type": "stream",
          "name": "stdout",
          "text": [
            "Среднее расстояние:  2.5054945054945055\n"
          ]
        }
      ]
    },
    {
      "cell_type": "code",
      "metadata": {
        "colab": {
          "base_uri": "https://localhost:8080/"
        },
        "outputId": "e4a59620-2c3d-4721-ef3b-af9bb4db2aea",
        "id": "e6MTr2N7-ThU"
      },
      "source": [
        "print(DECEIT.number_of_nodes())\n",
        "print(DECEIT.number_of_edges())"
      ],
      "execution_count": 96,
      "outputs": [
        {
          "output_type": "stream",
          "name": "stdout",
          "text": [
            "14\n",
            "20\n"
          ]
        }
      ]
    },
    {
      "cell_type": "code",
      "metadata": {
        "colab": {
          "base_uri": "https://localhost:8080/"
        },
        "outputId": "884cc099-4bdd-4e87-ed50-86282b879f42",
        "id": "7vbFHqc4-WU_"
      },
      "source": [
        "# Плотность графа: отношение числа имеющихся рёбер графа к максимально возможному количеству рёбер\n",
        "\n",
        "print(nx.density(DECEIT))"
      ],
      "execution_count": 97,
      "outputs": [
        {
          "output_type": "stream",
          "name": "stdout",
          "text": [
            "0.21978021978021978\n"
          ]
        }
      ]
    },
    {
      "cell_type": "code",
      "metadata": {
        "colab": {
          "base_uri": "https://localhost:8080/"
        },
        "outputId": "bad36d76-e9b2-442a-a4c6-621e767b354d",
        "id": "rXRZvlUF-_gu"
      },
      "source": [
        "# Коэффициент ассортативности (насколько вся сеть завязана на основных \"хабах\" = узлах с большим количеством связей):\n",
        "\n",
        "print(nx.degree_pearson_correlation_coefficient(G))"
      ],
      "execution_count": 98,
      "outputs": [
        {
          "output_type": "stream",
          "name": "stdout",
          "text": [
            "-0.1904761904761904\n"
          ]
        }
      ]
    },
    {
      "cell_type": "markdown",
      "metadata": {
        "id": "XHye17kSUCuH"
      },
      "source": [
        "+ **Диаметр** — самый длинный кратчайший путь от одной вершины до другой. Любая последовательность ребер, которая соединяет узлы, называется путь. Чаще всего в исследованиях рассматривается простой путь, то есть путь без циклов и повторяющихся узлов. Кратчайший путь между двумя узлами называют геодезическим расстоянием. Самый длинный кратчайший путь в графе называют его диаметром, однако он очень чувствителен к отклонениям (одна цепочка в многомиллионном графе может изменить его диаметр). \n",
        "\n",
        "+ Ещё одной очень информативной характеристикой считается **среднее расстояние между узлами**, которое можно получить, взяв среднее значение всех кратчайших путей в графе. Среднее расстояние определяется структурой графа: если граф построен в форме цепочки, оно будет большим, но чем теснее связаны узлы, тем меньше становится и среднее расстояние. \n",
        "\n",
        "+ [**Связная компонента**](https://ru.wikipedia.org/wiki/%D0%9A%D0%BE%D0%BC%D0%BF%D0%BE%D0%BD%D0%B5%D0%BD%D1%82%D0%B0_%D1%81%D0%B2%D1%8F%D0%B7%D0%BD%D0%BE%D1%81%D1%82%D0%B8_%D0%B3%D1%80%D0%B0%D1%84%D0%B0) - узлы, связанные между собой рёбрами\n",
        "\n",
        "+ **Коэффициент ассортативности (assortativity coefficient)** определяет, с кем связаны узлы-хабы (с большим количеством связей): если с другими узлами-хабами, то значение коэффициента высокое, а если нет – низкое.\n",
        "\n",
        "+ **Плотность графа (density)** – отношение числа ребер к максимально возможному. В сообществах, высокий коэффициент кластеризации и высокая плотность.\n",
        "\n",
        "+ **Степень, или мощность узла (degree)** – это количество его связей.\n",
        "\n",
        "+ **Взвешенная степень (weighted degree)** – это количество связей узла, разделенное на общее количество связей в графе.\n",
        "\n",
        "+ **Важность** узла можно определять разными способами:\n",
        "    + **degree centrality**: центральность по степени, у кого больше связей, тот и важнее\n",
        "    + **closeness centrality**: чем центральнее узел (т.е. чем короче путь от него до всех остальных узлов), тем он важнее; центральность по близости - насколько доступны для вершины другие узлы. Это означает, что вершина довольно хорошо связана с другими, даже если это не ближайшие соседи, связанные непосредственной связью. Но через пару шагов можно добраться до другого узла. Если это люди, то такому человеку легко доступна информация, он быстро может кого-то найти через друзей\n",
        "    + **betweenness centrality**: количество кратчайших путей, проходящих через узел; центральность по посредничеству - это важный показатель, который основан на доле кратчайших путей между разными парами вершин, которые проходят через эту точку. То есть эта точка является важным проводником между группами вершин или в целом вершинами. Например, есть две враждующие группы и есть какой-то посредник, через которого можно передать информацию. Такой персонаж очень важен\n",
        "    + **eigencentrality**: чем больше друзей у твоих друзей, тем ты важнее\n",
        "\n",
        "Все это можно посчитать с помощью `networkx`, вот [соответсветствующий раздел документации](https://networkx.github.io/documentation/networkx-2.2/reference/algorithms/centrality.html)."
      ]
    },
    {
      "cell_type": "code",
      "source": [
        "from collections import Counter"
      ],
      "metadata": {
        "id": "oAFoG5Pr44OD"
      },
      "execution_count": 104,
      "outputs": []
    },
    {
      "cell_type": "code",
      "source": [
        "# Выделение связных компонент\n",
        "\n",
        "components = nx.components.connected_components(DECEIT)\n",
        "\n",
        "component_lengths = Counter([len(i) for i in components])\n",
        "\n",
        "component_lengths.most_common()"
      ],
      "metadata": {
        "colab": {
          "base_uri": "https://localhost:8080/"
        },
        "id": "zHAkQJSY5Eoj",
        "outputId": "601a388a-ceb9-40f5-f771-d2fa1d70a5b1"
      },
      "execution_count": 105,
      "outputs": [
        {
          "output_type": "execute_result",
          "data": {
            "text/plain": [
              "[(14, 1)]"
            ]
          },
          "metadata": {},
          "execution_count": 105
        }
      ]
    },
    {
      "cell_type": "code",
      "source": [
        "components = nx.components.connected_components(DECEIT)\n",
        "nodes = sorted([(i, len(i)) for i in components], key=lambda x: x[1], reverse=True)[0][0]\n",
        "len(nodes)"
      ],
      "metadata": {
        "colab": {
          "base_uri": "https://localhost:8080/"
        },
        "id": "glvkdzVx512W",
        "outputId": "59eda559-cd1f-4097-f9b5-58f27e2caa82"
      },
      "execution_count": 106,
      "outputs": [
        {
          "output_type": "execute_result",
          "data": {
            "text/plain": [
              "14"
            ]
          },
          "metadata": {},
          "execution_count": 106
        }
      ]
    },
    {
      "cell_type": "code",
      "source": [
        "# Подграф \n",
        "B = DECEIT.subgraph(nodes)"
      ],
      "metadata": {
        "id": "tp3dvzB157MR"
      },
      "execution_count": 107,
      "outputs": []
    },
    {
      "cell_type": "code",
      "metadata": {
        "colab": {
          "base_uri": "https://localhost:8080/"
        },
        "id": "plzVeKbQUCuH",
        "outputId": "93401860-e105-4a7a-e326-af39058dbaf2"
      },
      "source": [
        "deg = nx.degree_centrality(DECEIT)\n",
        "for nodeid in sorted(deg, key=deg.get, reverse=True):\n",
        "    print(nodeid)"
      ],
      "execution_count": 147,
      "outputs": [
        {
          "output_type": "stream",
          "name": "stdout",
          "text": [
            "WRONG\n",
            "DECEIT\n",
            "FAULT\n",
            "MISTAKE\n",
            "LIE (MISLEAD)\n",
            "BETRAY\n",
            "MISS (A TARGET)\n",
            "PERJURY\n",
            "SELL\n",
            "GIVE\n",
            "CROOKED\n",
            "GUILTY\n",
            "SLEEP\n",
            "BAD\n"
          ]
        }
      ]
    },
    {
      "cell_type": "code",
      "metadata": {
        "colab": {
          "base_uri": "https://localhost:8080/"
        },
        "id": "dzmfm3OnUCuL",
        "outputId": "8a5c78fe-e693-4e79-a05c-777b3a29d420"
      },
      "source": [
        "b = nx.betweenness_centrality(DECEIT)\n",
        "for nodeid in sorted(b, key=b.get, reverse=True):\n",
        "    print(nodeid)"
      ],
      "execution_count": 112,
      "outputs": [
        {
          "output_type": "stream",
          "name": "stdout",
          "text": [
            "DECEIT\n",
            "WRONG\n",
            "BETRAY\n",
            "LIE (MISLEAD)\n",
            "FAULT\n",
            "MISTAKE\n",
            "SLEEP\n",
            "PERJURY\n",
            "SELL\n",
            "GIVE\n",
            "BAD\n",
            "CROOKED\n",
            "GUILTY\n",
            "MISS (A TARGET)\n"
          ]
        }
      ]
    },
    {
      "cell_type": "code",
      "metadata": {
        "colab": {
          "base_uri": "https://localhost:8080/"
        },
        "outputId": "699dbe98-6f8e-415d-e66a-0c733c2cf77a",
        "id": "sINknQVSC7ux"
      },
      "source": [
        "b = nx.closeness_centrality(DECEIT)\n",
        "for nodeid in sorted(b, key=b.get, reverse=True):\n",
        "    print(nodeid)"
      ],
      "execution_count": 113,
      "outputs": [
        {
          "output_type": "stream",
          "name": "stdout",
          "text": [
            "DECEIT\n",
            "WRONG\n",
            "BETRAY\n",
            "LIE (MISLEAD)\n",
            "FAULT\n",
            "MISTAKE\n",
            "PERJURY\n",
            "MISS (A TARGET)\n",
            "CROOKED\n",
            "GUILTY\n",
            "BAD\n",
            "SELL\n",
            "GIVE\n",
            "SLEEP\n"
          ]
        }
      ]
    },
    {
      "cell_type": "code",
      "metadata": {
        "colab": {
          "base_uri": "https://localhost:8080/"
        },
        "outputId": "04f1201b-0ee9-4ed8-fe52-dfe76d771483",
        "id": "8LITOeXCDExR"
      },
      "source": [
        "b = nx.eigenvector_centrality(DECEIT)\n",
        "for nodeid in sorted(b, key=b.get, reverse=True):\n",
        "    print(nodeid)"
      ],
      "execution_count": 116,
      "outputs": [
        {
          "output_type": "stream",
          "name": "stdout",
          "text": [
            "WRONG\n",
            "FAULT\n",
            "MISTAKE\n",
            "MISS (A TARGET)\n",
            "CROOKED\n",
            "GUILTY\n",
            "DECEIT\n",
            "BAD\n",
            "LIE (MISLEAD)\n",
            "PERJURY\n",
            "BETRAY\n",
            "SELL\n",
            "GIVE\n",
            "SLEEP\n"
          ]
        }
      ]
    },
    {
      "cell_type": "markdown",
      "metadata": {
        "id": "bZpPSLuQUCuO"
      },
      "source": [
        "**Коэффициент кластеризации (clustering coefficient)** – степень взаимодействия между собой ближайших соседей узла, т.е. вероятность того, что ближайшие соседи узла будут связаны не только с ним, но и между собой."
      ]
    },
    {
      "cell_type": "code",
      "metadata": {
        "colab": {
          "base_uri": "https://localhost:8080/"
        },
        "id": "6wHvA78gUCuO",
        "outputId": "6d6f8adf-1222-4c82-dc7b-a7a87312bc43"
      },
      "source": [
        "print(nx.average_clustering(DECEIT))\n",
        "print(nx.transitivity(DECEIT)) # транзитивен ли граф, есть ли в нём треугольники?"
      ],
      "execution_count": 117,
      "outputs": [
        {
          "output_type": "stream",
          "name": "stdout",
          "text": [
            "0.6003401360544218\n",
            "0.4528301886792453\n"
          ]
        }
      ]
    },
    {
      "cell_type": "markdown",
      "metadata": {
        "id": "oYhYtmF9UCuQ"
      },
      "source": [
        "**Модулярность (modularity)** показывает, насколько при заданном разбиении графа на группы плотность связей внутри группы больше плотности связей между группами. С помощью этой метрики граф разбивается на сообщества.\n",
        "\n",
        "**Сообщество** – это плотный подграф, где все (или почти все) узлы связаны между собой."
      ]
    },
    {
      "cell_type": "code",
      "metadata": {
        "id": "wCA66TFwUCuQ"
      },
      "source": [
        "from networkx.algorithms import community"
      ],
      "execution_count": 118,
      "outputs": []
    },
    {
      "cell_type": "markdown",
      "metadata": {
        "id": "GqG804UQUCuQ"
      },
      "source": [
        "[Вот тут](https://networkx.github.io/documentation/latest/reference/algorithms/community.html) можно найти алгоритмы для выделения сообществ."
      ]
    },
    {
      "cell_type": "code",
      "metadata": {
        "colab": {
          "base_uri": "https://localhost:8080/"
        },
        "id": "01YPlQkmUCuR",
        "outputId": "0f62d35b-669d-4db8-d23c-c6bda7d513b2"
      },
      "source": [
        "communities_generator = community.girvan_newman(DECEIT) # убирает постепенно по ребру с наиболее высокой betweenness centrality\n",
        "top_level_communities = next(communities_generator)\n",
        "next_level_communities = next(communities_generator)\n",
        "print(\"top level communities:\", sorted(map(sorted, top_level_communities)))\n",
        "print(\"next level communities:\", sorted(map(sorted, next_level_communities)))"
      ],
      "execution_count": 120,
      "outputs": [
        {
          "output_type": "stream",
          "name": "stdout",
          "text": [
            "top level communities: [['BAD', 'CROOKED', 'FAULT', 'GUILTY', 'MISS (A TARGET)', 'MISTAKE', 'WRONG'], ['BETRAY', 'DECEIT', 'GIVE', 'LIE (MISLEAD)', 'PERJURY', 'SELL', 'SLEEP']]\n",
            "next level communities: [['BAD', 'CROOKED', 'FAULT', 'GUILTY', 'MISS (A TARGET)', 'MISTAKE', 'WRONG'], ['BETRAY', 'GIVE', 'SELL'], ['DECEIT', 'LIE (MISLEAD)', 'PERJURY', 'SLEEP']]\n"
          ]
        }
      ]
    },
    {
      "cell_type": "code",
      "metadata": {
        "colab": {
          "base_uri": "https://localhost:8080/"
        },
        "outputId": "607b06ce-cbef-452d-ac05-fb414e0c226a",
        "id": "NbVPvzkZFwyB"
      },
      "source": [
        "communities_generator_2 = community.greedy_modularity_communities(DECEIT) # данный алгоритм использует модулярность, которая в свою очередь опирается на плотность связей внутри группы\n",
        "communities_generator_2"
      ],
      "execution_count": 122,
      "outputs": [
        {
          "output_type": "execute_result",
          "data": {
            "text/plain": [
              "[frozenset({'BAD',\n",
              "            'CROOKED',\n",
              "            'FAULT',\n",
              "            'GUILTY',\n",
              "            'MISS (A TARGET)',\n",
              "            'MISTAKE',\n",
              "            'WRONG'}),\n",
              " frozenset({'DECEIT', 'LIE (MISLEAD)', 'PERJURY', 'SLEEP'}),\n",
              " frozenset({'BETRAY', 'GIVE', 'SELL'})]"
            ]
          },
          "metadata": {},
          "execution_count": 122
        }
      ]
    },
    {
      "cell_type": "markdown",
      "metadata": {
        "id": "w4J7_Jf3UCuX"
      },
      "source": [
        "#### Gephi\n",
        "\n",
        "Программа Gephi умеет делать вещи намного красивее, чем `matplotlib`, так что можно создать граф с помощью питона, а потом загрузить его в Gephi и считать статистику по графу и визуализировать его уже там. Или можно задать граф в csv-файлах (нужны отдельные файлы для узлов и для рёбер) и отредактировать, разбить на сообщества в Gephi. "
      ]
    },
    {
      "cell_type": "markdown",
      "metadata": {
        "id": "YLN-iUBPUCuX"
      },
      "source": [
        "#### Статьи с использованием графов\n",
        "\n",
        "Библиография по лингвистическим (+ когнитивным) статьям, где используются графы:\n",
        "\n",
        "https://cqllab.upc.edu/biblio/networks/\n",
        "\n",
        "Обзор одной из этих статей может стать темой вашего эссе "
      ]
    }
  ]
}