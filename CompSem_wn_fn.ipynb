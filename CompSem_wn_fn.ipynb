{
  "cells": [
    {
      "cell_type": "markdown",
      "metadata": {
        "id": "yqSJTOjyfqAT"
      },
      "source": [
        "# WordNet"
      ]
    },
    {
      "cell_type": "markdown",
      "metadata": {
        "id": "0gbxMNpOfqAW"
      },
      "source": [
        "### Полезные ссылки: <br>\n",
        "Главный сайт проекта: https://wordnet.princeton.edu/ <br>\n",
        "WordNet через nltk: http://www.nltk.org/howto/wordnet.html"
      ]
    },
    {
      "cell_type": "code",
      "execution_count": 1,
      "metadata": {
        "colab": {
          "base_uri": "https://localhost:8080/"
        },
        "id": "MPNi-1uIfqAX",
        "outputId": "41391cf4-9049-4ed0-e891-72eec03ca4f0"
      },
      "outputs": [
        {
          "output_type": "stream",
          "name": "stderr",
          "text": [
            "[nltk_data] Downloading package wordnet to /root/nltk_data...\n"
          ]
        },
        {
          "output_type": "execute_result",
          "data": {
            "text/plain": [
              "True"
            ]
          },
          "metadata": {},
          "execution_count": 1
        }
      ],
      "source": [
        "import nltk\n",
        "nltk.download('wordnet')"
      ]
    },
    {
      "cell_type": "code",
      "execution_count": 2,
      "metadata": {
        "collapsed": true,
        "id": "wT9S0aIOfqAZ"
      },
      "outputs": [],
      "source": [
        "from nltk.corpus import wordnet as wn"
      ]
    },
    {
      "cell_type": "markdown",
      "metadata": {
        "id": "PUocZYw7fqAZ"
      },
      "source": [
        "Ищем все синсеты, в которых есть подстрока \"dog\":"
      ]
    },
    {
      "cell_type": "code",
      "execution_count": 3,
      "metadata": {
        "colab": {
          "base_uri": "https://localhost:8080/"
        },
        "id": "_0N4CAj1fqAa",
        "outputId": "7371ceec-285d-4661-a0e2-616172d2a0b5"
      },
      "outputs": [
        {
          "output_type": "stream",
          "name": "stdout",
          "text": [
            "[Synset('dog.n.01'), Synset('frump.n.01'), Synset('dog.n.03'), Synset('cad.n.01'), Synset('frank.n.02'), Synset('pawl.n.01'), Synset('andiron.n.01'), Synset('chase.v.01')]\n"
          ]
        }
      ],
      "source": [
        "synsets = wn.synsets('dog')\n",
        "print (synsets)"
      ]
    },
    {
      "cell_type": "markdown",
      "metadata": {
        "id": "H_H9Hd9GfqAa"
      },
      "source": [
        "Можно уточнить, какие именно части речи нас интересуют. Возможные варианты: NOUN, ADJ, ADV, VERB"
      ]
    },
    {
      "cell_type": "code",
      "execution_count": 4,
      "metadata": {
        "colab": {
          "base_uri": "https://localhost:8080/"
        },
        "id": "ieJrh6TxfqAb",
        "outputId": "f5a3beaa-0285-4097-ee0c-cdc7d08b2c87"
      },
      "outputs": [
        {
          "output_type": "stream",
          "name": "stdout",
          "text": [
            "[Synset('dog.n.01'), Synset('frump.n.01'), Synset('dog.n.03'), Synset('cad.n.01'), Synset('frank.n.02'), Synset('pawl.n.01'), Synset('andiron.n.01')]\n"
          ]
        }
      ],
      "source": [
        "noun_synsets = wn.synsets('dog', pos=wn.NOUN)\n",
        "print (noun_synsets)"
      ]
    },
    {
      "cell_type": "markdown",
      "metadata": {
        "id": "HB4X1zNXfqAb"
      },
      "source": [
        "Доступ ко всем синсетам и ко всем словам:"
      ]
    },
    {
      "cell_type": "code",
      "execution_count": 5,
      "metadata": {
        "colab": {
          "base_uri": "https://localhost:8080/"
        },
        "id": "RABZCpijfqAb",
        "outputId": "3783a719-5f98-4e7d-97de-06d6c6adba6e"
      },
      "outputs": [
        {
          "output_type": "stream",
          "name": "stdout",
          "text": [
            "117659\n",
            "13767\n",
            "21479\n"
          ]
        }
      ],
      "source": [
        "print (len(list(wn.all_synsets())))\n",
        "print (len(list(wn.all_synsets('v'))))\n",
        "print (len(list(wn.all_lemma_names('a'))))"
      ]
    },
    {
      "cell_type": "markdown",
      "metadata": {
        "id": "d6OczuPHfqAc"
      },
      "source": [
        "Про синсет мы можем узнать: его имя (ID синсета), определение, ID относящихся к нему лемм, сами леммы; посмотреть примеры (если они есть)"
      ]
    },
    {
      "cell_type": "code",
      "execution_count": 6,
      "metadata": {
        "colab": {
          "base_uri": "https://localhost:8080/"
        },
        "id": "BdRTyyFpfqAc",
        "outputId": "e2ea1435-05cb-413e-d52e-aee3cd186592"
      },
      "outputs": [
        {
          "output_type": "stream",
          "name": "stdout",
          "text": [
            "dog.n.01 a member of the genus Canis (probably descended from the common wolf) that has been domesticated by man since prehistoric times; occurs in many breeds [Lemma('dog.n.01.dog'), Lemma('dog.n.01.domestic_dog'), Lemma('dog.n.01.Canis_familiaris')] ['dog', 'domestic_dog', 'Canis_familiaris'] ['the dog barked all night']\n"
          ]
        }
      ],
      "source": [
        "exemplar = wn.synset('dog.n.01')\n",
        "print (exemplar.name(), exemplar.definition(), exemplar.lemmas(), exemplar.lemma_names(),\n",
        "       exemplar.examples())"
      ]
    },
    {
      "cell_type": "markdown",
      "metadata": {
        "collapsed": true,
        "id": "edxs0B9mfqAc"
      },
      "source": [
        "Отношения между синсетами"
      ]
    },
    {
      "cell_type": "code",
      "execution_count": 7,
      "metadata": {
        "colab": {
          "base_uri": "https://localhost:8080/"
        },
        "id": "Hd3-KIebfqAc",
        "outputId": "92e56f44-2329-400c-89d1-c470117e72ae"
      },
      "outputs": [
        {
          "output_type": "stream",
          "name": "stdout",
          "text": [
            "[Synset('basenji.n.01'), Synset('corgi.n.01'), Synset('cur.n.01'), Synset('dalmatian.n.02'), Synset('great_pyrenees.n.01'), Synset('griffon.n.02'), Synset('hunting_dog.n.01'), Synset('lapdog.n.01'), Synset('leonberg.n.01'), Synset('mexican_hairless.n.01'), Synset('newfoundland.n.01'), Synset('pooch.n.01'), Synset('poodle.n.01'), Synset('pug.n.01'), Synset('puppy.n.01'), Synset('spitz.n.01'), Synset('toy_dog.n.01'), Synset('working_dog.n.01')]\n",
            "[Synset('canine.n.02'), Synset('domestic_animal.n.01')]\n",
            "[Synset('entity.n.01')]\n",
            "[Synset('canis.n.01'), Synset('pack.n.06')]\n",
            "[]\n",
            "[]\n"
          ]
        }
      ],
      "source": [
        "print (exemplar.hyponyms())\n",
        "print (exemplar.hypernyms())\n",
        "print (exemplar.root_hypernyms())\n",
        "print (exemplar.member_holonyms())\n",
        "print (exemplar.member_meronyms())\n",
        "print (exemplar.similar_tos())"
      ]
    },
    {
      "cell_type": "markdown",
      "metadata": {
        "id": "O_UqYA10fqAd"
      },
      "source": [
        "Все узлы выше или ниже данного в иерархии: метод closure"
      ]
    },
    {
      "cell_type": "code",
      "execution_count": 8,
      "metadata": {
        "collapsed": true,
        "id": "RDS5C3gffqAd"
      },
      "outputs": [],
      "source": [
        "hypo = lambda s: s.hyponyms()\n",
        "hyper = lambda s: s.hypernyms()"
      ]
    },
    {
      "cell_type": "code",
      "execution_count": 9,
      "metadata": {
        "colab": {
          "base_uri": "https://localhost:8080/"
        },
        "id": "gEVVNAA8fqAd",
        "outputId": "7aa3d68b-8424-401f-8b74-d2f39dab28bc"
      },
      "outputs": [
        {
          "output_type": "stream",
          "name": "stdout",
          "text": [
            "[Synset('basenji.n.01'), Synset('corgi.n.01'), Synset('cur.n.01'), Synset('dalmatian.n.02'), Synset('great_pyrenees.n.01'), Synset('griffon.n.02'), Synset('hunting_dog.n.01'), Synset('lapdog.n.01'), Synset('leonberg.n.01'), Synset('mexican_hairless.n.01'), Synset('newfoundland.n.01'), Synset('pooch.n.01'), Synset('poodle.n.01'), Synset('pug.n.01'), Synset('puppy.n.01'), Synset('spitz.n.01'), Synset('toy_dog.n.01'), Synset('working_dog.n.01'), Synset('cardigan.n.02'), Synset('pembroke.n.01'), Synset('feist.n.01'), Synset('pariah_dog.n.01'), Synset('liver-spotted_dalmatian.n.01'), Synset('brabancon_griffon.n.01'), Synset('courser.n.03'), Synset('dachshund.n.01'), Synset('hound.n.01'), Synset('rhodesian_ridgeback.n.01'), Synset('sporting_dog.n.01'), Synset('terrier.n.01'), Synset('large_poodle.n.01'), Synset('miniature_poodle.n.01'), Synset('standard_poodle.n.01'), Synset('toy_poodle.n.01'), Synset('chow.n.03'), Synset('keeshond.n.01'), Synset('pomeranian.n.01'), Synset('samoyed.n.03'), Synset('chihuahua.n.03'), Synset('japanese_spaniel.n.01'), Synset('maltese_dog.n.01'), Synset('pekinese.n.01'), Synset('shih-tzu.n.01'), Synset('toy_spaniel.n.01'), Synset('toy_terrier.n.01'), Synset('boxer.n.04'), Synset('bull_mastiff.n.01'), Synset('bulldog.n.01'), Synset('eskimo_dog.n.01'), Synset('great_dane.n.01'), Synset('guide_dog.n.01'), Synset('hearing_dog.n.01'), Synset('mastiff.n.01'), Synset('police_dog.n.01'), Synset('saint_bernard.n.01'), Synset('seizure-alert_dog.n.01'), Synset('sennenhunde.n.01'), Synset('shepherd_dog.n.01'), Synset('sled_dog.n.01'), Synset('watchdog.n.02'), Synset('sausage_dog.n.01'), Synset('afghan_hound.n.01'), Synset('basset.n.01'), Synset('beagle.n.01'), Synset('bloodhound.n.01'), Synset('bluetick.n.01'), Synset('boarhound.n.01'), Synset('coonhound.n.01'), Synset('foxhound.n.01'), Synset('greyhound.n.01'), Synset('harrier.n.02'), Synset('ibizan_hound.n.01'), Synset('norwegian_elkhound.n.01'), Synset('otterhound.n.01'), Synset('plott_hound.n.01'), Synset('redbone.n.01'), Synset('saluki.n.01'), Synset('scottish_deerhound.n.01'), Synset('staghound.n.01'), Synset('weimaraner.n.01'), Synset('wolfhound.n.01'), Synset('bird_dog.n.01'), Synset('griffon.n.03'), Synset('pointer.n.04'), Synset('retriever.n.01'), Synset('setter.n.02'), Synset('spaniel.n.01'), Synset('water_dog.n.02'), Synset('airedale.n.01'), Synset('australian_terrier.n.01'), Synset('bedlington_terrier.n.01'), Synset('border_terrier.n.01'), Synset('boston_bull.n.01'), Synset('bullterrier.n.01'), Synset('cairn.n.02'), Synset('dandie_dinmont.n.01'), Synset('fox_terrier.n.01'), Synset('irish_terrier.n.01'), Synset('kerry_blue_terrier.n.01'), Synset('lhasa.n.02'), Synset('norfolk_terrier.n.01'), Synset('norwich_terrier.n.01'), Synset('rat_terrier.n.01'), Synset('schnauzer.n.01'), Synset('scotch_terrier.n.01'), Synset('silky_terrier.n.01'), Synset('skye_terrier.n.01'), Synset('soft-coated_wheaten_terrier.n.01'), Synset('tibetan_terrier.n.01'), Synset('west_highland_white_terrier.n.01'), Synset('wirehair.n.01'), Synset('yorkshire_terrier.n.01'), Synset('english_toy_spaniel.n.01'), Synset('king_charles_spaniel.n.01'), Synset('papillon.n.01'), Synset('french_bulldog.n.01'), Synset('seeing_eye_dog.n.01'), Synset('tibetan_mastiff.n.01'), Synset('appenzeller.n.01'), Synset('bernese_mountain_dog.n.01'), Synset('entlebucher.n.01'), Synset('greater_swiss_mountain_dog.n.01'), Synset('belgian_sheepdog.n.01'), Synset('border_collie.n.01'), Synset('bouvier_des_flandres.n.01'), Synset('briard.n.01'), Synset('collie.n.01'), Synset('german_shepherd.n.01'), Synset('kelpie.n.02'), Synset('komondor.n.01'), Synset('old_english_sheepdog.n.01'), Synset('rottweiler.n.01'), Synset('shetland_sheepdog.n.01'), Synset('malamute.n.01'), Synset('siberian_husky.n.01'), Synset('attack_dog.n.01'), Synset('housedog.n.01'), Synset('kuvasz.n.01'), Synset('pinscher.n.01'), Synset('schipperke.n.01'), Synset('black-and-tan_coonhound.n.01'), Synset('coondog.n.01'), Synset('american_foxhound.n.01'), Synset('english_foxhound.n.01'), Synset('walker_hound.n.01'), Synset('italian_greyhound.n.01'), Synset('whippet.n.01'), Synset('borzoi.n.01'), Synset('irish_wolfhound.n.01'), Synset('german_short-haired_pointer.n.01'), Synset('vizsla.n.01'), Synset('chesapeake_bay_retriever.n.01'), Synset('curly-coated_retriever.n.01'), Synset('flat-coated_retriever.n.01'), Synset('golden_retriever.n.01'), Synset('labrador_retriever.n.01'), Synset('english_setter.n.01'), Synset('gordon_setter.n.01'), Synset('irish_setter.n.01'), Synset('brittany_spaniel.n.01'), Synset('clumber.n.01'), Synset('cocker_spaniel.n.01'), Synset('field_spaniel.n.01'), Synset('springer_spaniel.n.01'), Synset('sussex_spaniel.n.01'), Synset('water_spaniel.n.01'), Synset('american_staffordshire_terrier.n.01'), Synset('staffordshire_bullterrier.n.01'), Synset('smooth-haired_fox_terrier.n.01'), Synset('wire-haired_fox_terrier.n.01'), Synset('manchester_terrier.n.01'), Synset('giant_schnauzer.n.01'), Synset('miniature_schnauzer.n.01'), Synset('standard_schnauzer.n.01'), Synset('clydesdale_terrier.n.01'), Synset('lakeland_terrier.n.01'), Synset('welsh_terrier.n.01'), Synset('blenheim_spaniel.n.01'), Synset('groenendael.n.01'), Synset('malinois.n.01'), Synset('affenpinscher.n.01'), Synset('doberman.n.01'), Synset('miniature_pinscher.n.01'), Synset('english_springer.n.01'), Synset('welsh_springer_spaniel.n.01'), Synset('american_water_spaniel.n.01'), Synset('irish_water_spaniel.n.01'), Synset('toy_manchester.n.01'), Synset('sealyham_terrier.n.01')]\n"
          ]
        }
      ],
      "source": [
        "print(list(exemplar.closure(hypo)))"
      ]
    },
    {
      "cell_type": "code",
      "execution_count": 10,
      "metadata": {
        "colab": {
          "base_uri": "https://localhost:8080/"
        },
        "id": "6t-lcaZdfqAd",
        "outputId": "5b7fcd60-884d-4d1c-e9d5-c28f4a963d03"
      },
      "outputs": [
        {
          "output_type": "stream",
          "name": "stdout",
          "text": [
            "[Synset('canine.n.02'), Synset('domestic_animal.n.01'), Synset('carnivore.n.01'), Synset('animal.n.01'), Synset('placental.n.01'), Synset('organism.n.01'), Synset('mammal.n.01'), Synset('living_thing.n.01'), Synset('vertebrate.n.01'), Synset('whole.n.02'), Synset('chordate.n.01'), Synset('object.n.01'), Synset('physical_entity.n.01'), Synset('entity.n.01')]\n"
          ]
        },
        {
          "output_type": "stream",
          "name": "stderr",
          "text": [
            "/usr/local/lib/python3.10/dist-packages/nltk/corpus/reader/wordnet.py:604: UserWarning: Discarded redundant search for Synset('animal.n.01') at depth 7\n",
            "  for synset in acyclic_breadth_first(self, rel, depth):\n"
          ]
        }
      ],
      "source": [
        "print(list(exemplar.closure(hyper)))"
      ]
    },
    {
      "cell_type": "markdown",
      "metadata": {
        "id": "f6Pu2TNtfqAe"
      },
      "source": [
        "Ближайший общий гипероним"
      ]
    },
    {
      "cell_type": "code",
      "execution_count": 11,
      "metadata": {
        "colab": {
          "base_uri": "https://localhost:8080/"
        },
        "id": "JouxAQ7NfqAe",
        "outputId": "90debc54-ef5e-4a72-8855-79cec02529c0"
      },
      "outputs": [
        {
          "output_type": "stream",
          "name": "stdout",
          "text": [
            "[Synset('organism.n.01')]\n"
          ]
        }
      ],
      "source": [
        "print(wn.synset('person.n.01').lowest_common_hypernyms(wn.synset('dog.n.01')))"
      ]
    },
    {
      "cell_type": "markdown",
      "metadata": {
        "id": "F5QNtsNdfqAe"
      },
      "source": [
        "Расстояние между синсетами: <br>\n",
        "path_similarity - оценивает расстояние по кратчайшему пути между синсетами. <br>\n",
        "Значение - от 0 до 1, где 1 - максимальная степень близости."
      ]
    },
    {
      "cell_type": "code",
      "execution_count": 12,
      "metadata": {
        "colab": {
          "base_uri": "https://localhost:8080/"
        },
        "id": "vhs40d0rfqAe",
        "outputId": "f50ff6b9-32ea-4400-9628-0586120e8e96"
      },
      "outputs": [
        {
          "output_type": "stream",
          "name": "stdout",
          "text": [
            "0.2\n",
            "0.1\n",
            "1.0\n"
          ]
        }
      ],
      "source": [
        "print(wn.synset('dog.n.01').path_similarity(wn.synset('cat.n.01')))\n",
        "print(wn.synset('person.n.01').path_similarity(wn.synset('cat.n.01')))\n",
        "print(wn.synset('dog.n.01').path_similarity(wn.synset('dog.n.01')))"
      ]
    },
    {
      "cell_type": "markdown",
      "metadata": {
        "id": "Xkwj7x3JfqAe"
      },
      "source": [
        "Деривационные отношения и отношение антонимии определены только для лемм:"
      ]
    },
    {
      "cell_type": "code",
      "execution_count": 13,
      "metadata": {
        "colab": {
          "base_uri": "https://localhost:8080/"
        },
        "id": "PVquNdZRfqAf",
        "outputId": "0bcbadc8-9fc8-49fc-bc91-e5dc400341fc"
      },
      "outputs": [
        {
          "output_type": "stream",
          "name": "stdout",
          "text": [
            "Lemma('personal.n.01.personal')\n",
            "Pertainyms: []\n",
            "Antonyms: []\n",
            "Derivationally related forms: []\n",
            "Lemma('personal.a.01.personal')\n",
            "Pertainyms: []\n",
            "Antonyms: [Lemma('impersonal.a.01.impersonal')]\n",
            "Derivationally related forms: []\n",
            "Lemma('personal.s.02.personal')\n",
            "Pertainyms: []\n",
            "Antonyms: []\n",
            "Derivationally related forms: []\n",
            "Lemma('personal.a.03.personal')\n",
            "Pertainyms: [Lemma('personality.n.01.personality')]\n",
            "Antonyms: []\n",
            "Derivationally related forms: [Lemma('personality.n.01.personality')]\n",
            "Lemma('personal.s.04.personal')\n",
            "Pertainyms: []\n",
            "Antonyms: []\n",
            "Derivationally related forms: []\n",
            "Lemma('personal.a.05.personal')\n",
            "Pertainyms: [Lemma('person.n.03.person')]\n",
            "Antonyms: []\n",
            "Derivationally related forms: []\n"
          ]
        }
      ],
      "source": [
        "for lemma in wn.lemmas('personal'):\n",
        "    print (lemma)\n",
        "    print ('Pertainyms:', lemma.pertainyms())\n",
        "    print ('Antonyms:', lemma.antonyms())\n",
        "    print ('Derivationally related forms:', lemma.derivationally_related_forms())"
      ]
    },
    {
      "cell_type": "markdown",
      "metadata": {
        "id": "to027mN9fqAf"
      },
      "source": [
        "## MultiWordNet"
      ]
    },
    {
      "cell_type": "markdown",
      "metadata": {
        "id": "8dw-4ugRfqAf"
      },
      "source": [
        "http://compling.hss.ntu.edu.sg/omw/ <br>\n",
        "Условные обозначения языков: коды ISO-639"
      ]
    },
    {
      "cell_type": "code",
      "source": [
        "nltk.download('omw-1.4')"
      ],
      "metadata": {
        "colab": {
          "base_uri": "https://localhost:8080/"
        },
        "id": "voL95VADiDfr",
        "outputId": "007bf8c8-ca06-4f50-c2f3-a19f22bc231a"
      },
      "execution_count": 16,
      "outputs": [
        {
          "output_type": "stream",
          "name": "stderr",
          "text": [
            "[nltk_data] Downloading package omw-1.4 to /root/nltk_data...\n"
          ]
        },
        {
          "output_type": "execute_result",
          "data": {
            "text/plain": [
              "True"
            ]
          },
          "metadata": {},
          "execution_count": 16
        }
      ]
    },
    {
      "cell_type": "code",
      "execution_count": 19,
      "metadata": {
        "colab": {
          "base_uri": "https://localhost:8080/"
        },
        "id": "aWfhaHTCfqAf",
        "outputId": "ab9ae7be-4a6a-47fb-d407-bdda54e8e559"
      },
      "outputs": [
        {
          "output_type": "execute_result",
          "data": {
            "text/plain": [
              "(['als',\n",
              "  'arb',\n",
              "  'bul',\n",
              "  'cat',\n",
              "  'cmn',\n",
              "  'dan',\n",
              "  'ell',\n",
              "  'eng',\n",
              "  'eus',\n",
              "  'fin',\n",
              "  'fra',\n",
              "  'glg',\n",
              "  'heb',\n",
              "  'hrv',\n",
              "  'ind',\n",
              "  'isl',\n",
              "  'ita',\n",
              "  'ita_iwn',\n",
              "  'jpn',\n",
              "  'lit',\n",
              "  'nld',\n",
              "  'nno',\n",
              "  'nob',\n",
              "  'pol',\n",
              "  'por',\n",
              "  'ron',\n",
              "  'slk',\n",
              "  'slv',\n",
              "  'spa',\n",
              "  'swe',\n",
              "  'tha',\n",
              "  'zsm'],\n",
              " 32)"
            ]
          },
          "metadata": {},
          "execution_count": 19
        }
      ],
      "source": [
        "sorted(wn.langs()), len(wn.langs())"
      ]
    },
    {
      "cell_type": "code",
      "execution_count": 18,
      "metadata": {
        "colab": {
          "base_uri": "https://localhost:8080/"
        },
        "id": "bOybcflgfqAf",
        "outputId": "cc8393b2-d82a-4067-8dd0-e45f7740c62e"
      },
      "outputs": [
        {
          "output_type": "stream",
          "name": "stdout",
          "text": [
            "['canis_familiaris', 'chien']\n",
            "['Canis_lupus_familiaris', 'domaći_pas', 'pas']\n"
          ]
        },
        {
          "output_type": "stream",
          "name": "stderr",
          "text": [
            "/usr/local/lib/python3.10/dist-packages/nltk/corpus/reader/wordnet.py:1564: UserWarning: No WordNet synset found for pos=a at offset=1498548.\n",
            "  warnings.warn(f\"No WordNet synset found for pos={pos} at offset={offset}.\")\n",
            "/usr/local/lib/python3.10/dist-packages/nltk/corpus/reader/wordnet.py:1564: UserWarning: No WordNet synset found for pos=a at offset=1505508.\n",
            "  warnings.warn(f\"No WordNet synset found for pos={pos} at offset={offset}.\")\n",
            "/usr/local/lib/python3.10/dist-packages/nltk/corpus/reader/wordnet.py:1564: UserWarning: No WordNet synset found for pos=a at offset=2002046.\n",
            "  warnings.warn(f\"No WordNet synset found for pos={pos} at offset={offset}.\")\n",
            "/usr/local/lib/python3.10/dist-packages/nltk/corpus/reader/wordnet.py:1564: UserWarning: No WordNet synset found for pos=a at offset=2917945.\n",
            "  warnings.warn(f\"No WordNet synset found for pos={pos} at offset={offset}.\")\n"
          ]
        },
        {
          "output_type": "stream",
          "name": "stdout",
          "text": [
            "['イヌ', 'ドッグ', '洋犬', '犬', '飼い犬', '飼犬']\n"
          ]
        }
      ],
      "source": [
        "print (exemplar.lemma_names('fra'))\n",
        "print (exemplar.lemma_names('hrv'))\n",
        "print (exemplar.lemma_names('jpn'))"
      ]
    },
    {
      "cell_type": "markdown",
      "metadata": {
        "collapsed": true,
        "id": "k4jKIVYPfqAf"
      },
      "source": [
        "# FrameNet"
      ]
    },
    {
      "cell_type": "markdown",
      "metadata": {
        "id": "uWeJzUbZfqAg"
      },
      "source": [
        "Главный сайт проекта: https://framenet2.icsi.berkeley.edu <br>\n",
        "FrameNet через nltk: http://www.nltk.org/howto/framenet.html"
      ]
    },
    {
      "cell_type": "code",
      "execution_count": 20,
      "metadata": {
        "colab": {
          "base_uri": "https://localhost:8080/"
        },
        "id": "zg6KCqRSfqAg",
        "outputId": "9d2c80f4-9bfb-4798-8981-b0dcdee763a1"
      },
      "outputs": [
        {
          "output_type": "stream",
          "name": "stderr",
          "text": [
            "[nltk_data] Downloading package framenet_v17 to /root/nltk_data...\n",
            "[nltk_data]   Unzipping corpora/framenet_v17.zip.\n"
          ]
        },
        {
          "output_type": "execute_result",
          "data": {
            "text/plain": [
              "True"
            ]
          },
          "metadata": {},
          "execution_count": 20
        }
      ],
      "source": [
        "import nltk\n",
        "nltk.download('framenet_v17')"
      ]
    },
    {
      "cell_type": "code",
      "execution_count": 22,
      "metadata": {
        "collapsed": true,
        "id": "a-rSpMFLfqAg"
      },
      "outputs": [],
      "source": [
        "from nltk.corpus import framenet as fn"
      ]
    },
    {
      "cell_type": "markdown",
      "metadata": {
        "id": "KoOsfXBBfqAg"
      },
      "source": [
        "Все фреймы:"
      ]
    },
    {
      "cell_type": "code",
      "execution_count": 23,
      "metadata": {
        "colab": {
          "base_uri": "https://localhost:8080/"
        },
        "id": "HgYTHuJLfqAg",
        "outputId": "aca48300-746a-4eca-d9a0-9c4a79947130"
      },
      "outputs": [
        {
          "output_type": "stream",
          "name": "stdout",
          "text": [
            "[<frame ID=2031 name=Abandonment>, <frame ID=262 name=Abounding_with>, ...] 1221\n"
          ]
        }
      ],
      "source": [
        "print (fn.frames(), len(fn.frames()))"
      ]
    },
    {
      "cell_type": "markdown",
      "metadata": {
        "id": "1uAIG4RnfqAg"
      },
      "source": [
        "Все фреймы, в которых есть подстрока 'event':"
      ]
    },
    {
      "cell_type": "code",
      "execution_count": 24,
      "metadata": {
        "colab": {
          "base_uri": "https://localhost:8080/"
        },
        "id": "7nt9dPDKfqAh",
        "outputId": "b39b4e8c-3bd2-4dfe-8485-368387442968"
      },
      "outputs": [
        {
          "output_type": "stream",
          "name": "stdout",
          "text": [
            "Change_event_duration\n",
            "Change_event_time\n",
            "Desirable_event\n",
            "Historic_event\n",
            "Locale_by_event\n",
            "Prevent_or_allow_possession\n",
            "Preventing_or_letting\n",
            "Required_event\n",
            "Social_event\n",
            "Social_event_collective\n",
            "Social_event_individuals\n"
          ]
        }
      ],
      "source": [
        "for frame in fn.frames('event'):\n",
        "    print (frame.name)"
      ]
    },
    {
      "cell_type": "markdown",
      "metadata": {
        "id": "g5xn3mvYfqAh"
      },
      "source": [
        "Все слова:"
      ]
    },
    {
      "cell_type": "code",
      "execution_count": 25,
      "metadata": {
        "colab": {
          "base_uri": "https://localhost:8080/"
        },
        "id": "lsgefTl0fqAh",
        "outputId": "e737b9f7-c7c8-4b29-e473-c343180a4a4a"
      },
      "outputs": [
        {
          "output_type": "stream",
          "name": "stdout",
          "text": [
            "[<lu ID=16601 name=(can't) help.v>, <lu ID=14632 name=(in/out of) line.n>, ...] 13572\n"
          ]
        }
      ],
      "source": [
        "print (fn.lus(), len(fn.lus()))"
      ]
    },
    {
      "cell_type": "markdown",
      "metadata": {
        "id": "2a7co-VbfqAh"
      },
      "source": [
        "Каждый фрейм - это словарь. Заглянем внутрь фрейма Historic_event:"
      ]
    },
    {
      "cell_type": "code",
      "execution_count": 26,
      "metadata": {
        "colab": {
          "base_uri": "https://localhost:8080/"
        },
        "id": "CY9cGgF5fqAl",
        "outputId": "7335d4c9-6650-46f3-a655-a5661cb82fdb"
      },
      "outputs": [
        {
          "output_type": "stream",
          "name": "stdout",
          "text": [
            "frame (1908): Historic_event\n",
            "\n",
            "[URL] https://framenet2.icsi.berkeley.edu/fnReports/data/frame/Historic_event.xml\n",
            "\n",
            "[definition]\n",
            "  In the course of history, an Event or Entity is taken to have\n",
            "  importance or significance.  'Throughout the campaign activists\n",
            "  have made financial history as one by one major corporations have\n",
            "  yielded to protester power'  'The conference was historic for\n",
            "  Atlanta's growth as a city.'  'Many of the historic sites offer\n",
            "  additional outdoor recreation activities.'  'The James River is\n",
            "  arguably the most historic river in the country and one of the\n",
            "  most important rivers in the Southeast.'  'Take in the history,\n",
            "  the sawdust-covered floors, and the legendary backroom where the\n",
            "  ale flowed during Prohibition.'\n",
            "\n",
            "[semTypes] 0 semantic types\n",
            "\n",
            "[frameRelations] 3 frame relations\n",
            "  <Parent=Eventive_affecting -- Inheritance -> Child=Historic_event>\n",
            "  <Complex=Individual_history -- Subframe -> Component=Historic_event>\n",
            "  <Parent=Importance -- Using -> Child=Historic_event>\n",
            "\n",
            "[lexUnit] 3 lexical units\n",
            "  historic [entity].a (15178), historic.a (14182), make\n",
            "  history.idio (14183)\n",
            "\n",
            "\n",
            "[FE] 8 frame elements\n",
            "            Core: Entity (11421), Event (11417)\n",
            "      Peripheral: Domain (11427), Manner (11422), Place (11418), Time (11419)\n",
            "  Extra-Thematic: Degree (13000), Explanation (11420)\n",
            "\n",
            "[FEcoreSets] 1 frame element core sets\n",
            "  Event, Entity\n",
            "\n"
          ]
        }
      ],
      "source": [
        "frame_HistEvent = fn.frame('Historic_event')\n",
        "print (frame_HistEvent)"
      ]
    },
    {
      "cell_type": "markdown",
      "metadata": {
        "id": "-1f8PRCcfqAm"
      },
      "source": [
        "FE и lexUnit - тоже словари:"
      ]
    },
    {
      "cell_type": "code",
      "execution_count": 27,
      "metadata": {
        "colab": {
          "base_uri": "https://localhost:8080/"
        },
        "id": "yXATf8phfqAm",
        "outputId": "63e84a65-5cc6-477c-d319-14d2ddd518a7"
      },
      "outputs": [
        {
          "output_type": "stream",
          "name": "stdout",
          "text": [
            "[Event] frame element (11417): Event\n",
            "    of Historic_event(1908)\n",
            "[definition]\n",
            "  This FE identifies the event which occurs to create history.\n",
            "[abbrev] Evnt\n",
            "[coreType] Core\n",
            "[requiresFE] <None>\n",
            "[excludesFE] <None>\n",
            "[semType] \n",
            "  State_of_affairs(177)\n",
            "\n",
            "[Place] frame element (11418): Place\n",
            "    of Historic_event(1908)\n",
            "[definition]\n",
            "  This FE identifies where the event takes place.\n",
            "[abbrev] Place\n",
            "[coreType] Peripheral\n",
            "[requiresFE] <None>\n",
            "[excludesFE] <None>\n",
            "[semType] \n",
            "  Locative_relation(182)\n",
            "\n",
            "[Time] frame element (11419): Time\n",
            "    of Historic_event(1908)\n",
            "[definition]\n",
            "  This FE identifies the time when the event occurs.\n",
            "[abbrev] Time\n",
            "[coreType] Peripheral\n",
            "[requiresFE] <None>\n",
            "[excludesFE] <None>\n",
            "[semType] \n",
            "  Time(141)\n",
            "\n",
            "[Explanation] frame element (11420): Explanation\n",
            "    of Historic_event(1908)\n",
            "[definition]\n",
            "  This FE identifies the Explanation for which an event occurs.\n",
            "[abbrev] Exp\n",
            "[coreType] Extra-Thematic\n",
            "[requiresFE] <None>\n",
            "[excludesFE] <None>\n",
            "[semType] \n",
            "  State_of_affairs(177)\n",
            "\n",
            "[Entity] frame element (11421): Entity\n",
            "    of Historic_event(1908)\n",
            "[definition]\n",
            "  This FE identifies the entity, concrete or abstract.\n",
            "[abbrev] Ent\n",
            "[coreType] Core\n",
            "[requiresFE] <None>\n",
            "[excludesFE] <None>\n",
            "[semType] <None>\n",
            "\n",
            "[Manner] frame element (11422): Manner\n",
            "    of Historic_event(1908)\n",
            "[definition]\n",
            "  Any description of the event which is not covered by more\n",
            "  specific FEs, including secondary effects (quietly, loudly) and\n",
            "  general descriptions comparing events (the same way).\n",
            "[abbrev] Man\n",
            "[coreType] Peripheral\n",
            "[requiresFE] <None>\n",
            "[excludesFE] <None>\n",
            "[semType] <None>\n",
            "\n",
            "[Domain] frame element (11427): Domain\n",
            "    of Historic_event(1908)\n",
            "[definition]\n",
            "  The Domain is (a characterization of) the type of event that is\n",
            "  part of the Event's history.  'Throughout the campaign activists\n",
            "  have made financial history as one by one major corporations have\n",
            "  yielded to protester power'\n",
            "[abbrev] dom\n",
            "[coreType] Peripheral\n",
            "[requiresFE] <None>\n",
            "[excludesFE] <None>\n",
            "[semType] <None>\n",
            "\n",
            "[Degree] frame element (13000): Degree\n",
            "    of Historic_event(1908)\n",
            "[definition]\n",
            "  This frame element selects some gradable attribute and modifies\n",
            "  the expected value for it.\n",
            "[abbrev] Deg\n",
            "[coreType] Extra-Thematic\n",
            "[requiresFE] <None>\n",
            "[excludesFE] <None>\n",
            "[semType] <None>\n",
            "\n",
            "\n"
          ]
        }
      ],
      "source": [
        "print (frame_HistEvent.FE)"
      ]
    },
    {
      "cell_type": "markdown",
      "metadata": {
        "id": "rMFdwwI6fqAm"
      },
      "source": [
        "Способы обратиться к элементам фрейма (FE):"
      ]
    },
    {
      "cell_type": "code",
      "execution_count": 28,
      "metadata": {
        "colab": {
          "base_uri": "https://localhost:8080/"
        },
        "id": "wDrMmOHmfqAm",
        "outputId": "eda9443c-f366-42b3-c3a8-842fe62a6e42"
      },
      "outputs": [
        {
          "output_type": "stream",
          "name": "stdout",
          "text": [
            "This FE identifies the event which occurs to create history.\n"
          ]
        }
      ],
      "source": [
        "print (frame_HistEvent.FE.Event.definition)\n",
        "# Или: print (frame_HistEvent['FE']['Event']['definition'])"
      ]
    },
    {
      "cell_type": "markdown",
      "metadata": {
        "id": "H_XkJ2wtfqAm"
      },
      "source": [
        "В словарях лексических юнитов скрываются размеченные примеры:"
      ]
    },
    {
      "cell_type": "code",
      "execution_count": 29,
      "metadata": {
        "colab": {
          "base_uri": "https://localhost:8080/"
        },
        "id": "lZFq0v5JfqAm",
        "outputId": "c1aa95a8-c501-4bbd-c9f9-29b1ada8e8b3"
      },
      "outputs": [
        {
          "output_type": "stream",
          "name": "stdout",
          "text": [
            "lexical unit (14182): historic.a\n",
            "\n",
            "[definition]\n",
            "  COD: famous or important in history, or potentially so.\n",
            "\n",
            "[frame] Historic_event(1908)\n",
            "\n",
            "[POS] A\n",
            "\n",
            "[status] Finished_Initial\n",
            "\n",
            "[lexemes] historic/A\n",
            "\n",
            "[semTypes] 0 semantic types\n",
            "\n",
            "[URL] https://framenet2.icsi.berkeley.edu/fnReports/data/lu/lu14182.xml\n",
            "\n",
            "[subCorpus] 8 subcorpora\n",
            "  01-T-Wmoment,victory,opportunity-(1), 03-NP-VP-T-(1),\n",
            "  04-T-NP-(1), 05-AVP-T-(1), 06-T-AVP-(1), manually-added,\n",
            "  other-matched-(1), other-unmatched-(1)\n",
            "\n",
            "[exemplars] 17 sentences across all subcorpora\n",
            "\n"
          ]
        }
      ],
      "source": [
        "historic = frame_HistEvent.lexUnit['historic.a']\n",
        "# то же самое (по ID):\n",
        "# historic = fn.lu(14182))\n",
        "print (historic)"
      ]
    },
    {
      "cell_type": "code",
      "execution_count": 30,
      "metadata": {
        "colab": {
          "base_uri": "https://localhost:8080/"
        },
        "id": "wDSJhfRHfqAm",
        "outputId": "0429f813-88d0-40a5-c322-6d43c9328d14"
      },
      "outputs": [
        {
          "output_type": "stream",
          "name": "stdout",
          "text": [
            "exemplar sentence (1454496):\n",
            "[corpID] 111\n",
            "[docID] 421\n",
            "[paragNo] 7518\n",
            "[sentNo] 1\n",
            "[aPos] 28944963\n",
            "\n",
            "[LU] (14182) historic.a in Historic_event\n",
            "\n",
            "[frame] (1908) Historic_event\n",
            "\n",
            "[annotationSet] 2 annotation sets\n",
            "\n",
            "[POS] 27 tags\n",
            "\n",
            "[POS_tagset] PENN\n",
            "\n",
            "[GF] 2 relations\n",
            "\n",
            "[PT] 2 phrases\n",
            "\n",
            "[text] + [Target] + [FE]\n",
            "\n",
            "Researchers expected to find six out of ten people could recall \n",
            "                                                                \n",
            "                                                                \n",
            " \n",
            "Lady Thatcher 's historic resignation moment in vivid detail by \n",
            "---------------- ******** ------------------\n",
            "Entity                    Event             \n",
            " \n",
            "retaining a long-lasting ` flashbulb \" memory .\n",
            " \n",
            " \n",
            " \n",
            "\n",
            "\n"
          ]
        }
      ],
      "source": [
        "print (historic.exemplars[0])"
      ]
    },
    {
      "cell_type": "markdown",
      "metadata": {
        "id": "Knh2WDSnfqAn"
      },
      "source": [
        "## Практическое задание"
      ]
    },
    {
      "cell_type": "markdown",
      "metadata": {
        "id": "fFL9PqbBfqAn"
      },
      "source": [
        "Найдите все фреймы, в число ядерных (Core) элементов которых входит участник с ролью начальной точки перемещения (Source)."
      ]
    }
  ],
  "metadata": {
    "kernelspec": {
      "display_name": "Python 3",
      "language": "python",
      "name": "python3"
    },
    "language_info": {
      "codemirror_mode": {
        "name": "ipython",
        "version": 3
      },
      "file_extension": ".py",
      "mimetype": "text/x-python",
      "name": "python",
      "nbconvert_exporter": "python",
      "pygments_lexer": "ipython3",
      "version": "3.6.0"
    },
    "colab": {
      "provenance": []
    }
  },
  "nbformat": 4,
  "nbformat_minor": 0
}