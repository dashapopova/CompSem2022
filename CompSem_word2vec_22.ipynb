{
  "nbformat": 4,
  "nbformat_minor": 0,
  "metadata": {
    "kernelspec": {
      "display_name": "Python 3",
      "language": "python",
      "name": "python3"
    },
    "language_info": {
      "codemirror_mode": {
        "name": "ipython",
        "version": 3
      },
      "file_extension": ".py",
      "mimetype": "text/x-python",
      "name": "python",
      "nbconvert_exporter": "python",
      "pygments_lexer": "ipython3",
      "version": "3.6.5"
    },
    "colab": {
      "name": "CompSem_word2vec_22.ipynb",
      "provenance": []
    }
  },
  "cells": [
    {
      "cell_type": "markdown",
      "source": [
        "# Векторные модели. Word2Vec\n",
        "\n",
        "+ Firth (1957:11):\n",
        "You shall know a word by the company it keeps . . .\n",
        "\n",
        "+ Дистрибутивная гипотеза: значение слова определяется его контекстом — иначе говоря, словами, которые встречаются рядом с этим словом в тексте. \n",
        "\n",
        "+ Область лингвистики, которая занимается вычислением степени семантической близости между словами/текстами и т.п. на основании их распределения (дистрибуции) в больших массивах данных (текстовых корпусах) назвается **дистрибутивной семантикой**."
      ],
      "metadata": {
        "id": "NdJYiJAUVEHA"
      }
    },
    {
      "cell_type": "markdown",
      "source": [
        "## Кратко о существующих системах\n",
        "\n",
        "**GloVe**\n",
        "\n",
        "GloVe берет и строит полную матрицу совместной встречаемости и после этого с помощью алгоритмов уменьшения размерности преобразует ее так, чтобы вектора были опредленной длины\n",
        "\n",
        "\n",
        "**Word2Vec**\n",
        "\n",
        "Это уже нейросеть и она на основе корпуса постепенно подбирает коэффициенты (значения в векторах) для каждого слова так, чтобы с помощью них можно было наилучшим образом предсказывать слова по контексту\n",
        "\n",
        "**FastText**\n",
        "\n",
        "Если мы берем конкретные слова, мы не можем ничего сказать о тех, что нам не встретились (например, уже видели вагон и строитель, а вот вагоностроителя у нас не было). Если мы возьмем слова не целиком, а в виде будквенных нграмм, то мы сможем сложить неизвестные слова.\n",
        "\n",
        "**AdaGram**\n",
        "\n",
        "Все предыдущие модели основаны на графических оболочках и не учитывают многозначность и омонимию. Есть только один вектор для слова \"ключ\" и мы ничего с этим не можем сделать. AdaGram исходит из предположения, что у слова есть n вариантов и если они действительно отличаются и достаточно часто встречаются, он умеет их разделить.\n",
        "\n",
        "**BERT и ELMo**\n",
        "\n",
        "Эти модели не просто могут отличить значения слов, но и скорректировать их вектора в зависимости от контекста, например, понять, что в отрывках “чистый ключ в лесной чаще” и “ключ от квартиры” совсем разные “ключи”. https://habr.com/ru/post/487358/"
      ],
      "metadata": {
        "id": "aTBd1rztVEHO"
      }
    },
    {
      "cell_type": "markdown",
      "source": [
        "### Word2Vec"
      ],
      "metadata": {
        "id": "9mMfbQjeVEHS"
      }
    },
    {
      "cell_type": "markdown",
      "source": [
        "Одной из самых известных моделей для работы с дистрибутивной семантикой является word2vec. Технология основана на нейронной сети, предсказывающей вероятность встретить слово в заданном контексте. Этот инструмент был разработан группой исследователей Google в 2013 году, руководителем проекта был Томаш Миколов. Вот две самые главные статьи:\n",
        "\n",
        "+ [Efficient Estimation of Word Representations inVector Space](https://arxiv.org/pdf/1301.3781.pdf)\n",
        "+ [Distributed Representations of Words and Phrases and their Compositionality](https://arxiv.org/abs/1310.4546)\n",
        "\n",
        "Полученные таким образом вектора называются распределенными представлениями слов, или **эмбеддингами**."
      ],
      "metadata": {
        "id": "iGjcLmigVEHZ"
      }
    },
    {
      "cell_type": "markdown",
      "source": [
        "#### Как это обучается?\n",
        "\n",
        "Мы задаём вектор для каждого слова с помощью матрицы $w$ и вектор контекста с помощью матрицы $W$. По сути, word2vec является обобщающим названием для двух архитектур Skip-Gram и Continuous Bag-Of-Words (CBOW).\n",
        "\n",
        "+ **CBOW** предсказывает текущее слово, исходя из окружающего его контекста.\n",
        "\n",
        "+ **Skip-gram**, наоборот, использует текущее слово, чтобы предугадывать окружающие его слова.\n",
        "  \n",
        "\n",
        "![cbow_skip-gram](./cbow_skip-gram.png)\n",
        "\n",
        "\n",
        "#### Как это работает?\n",
        "\n",
        "Word2vec принимает большой текстовый корпус в качестве входных данных и сопоставляет каждому слову вектор, выдавая координаты слов на выходе. Сначала он создает словарь, «обучаясь» на входных текстовых данных, а затем вычисляет векторное представление слов. Векторное представление основывается на контекстной близости: слова, встречающиеся в тексте рядом с одинаковыми словами (а следовательно, согласно дистрибутивной гипотезе, имеющие схожий смысл), в векторном представлении будут иметь близкие координаты векторов-слов. Для вычисления близости слов используется косинусное расстояние между их векторами.\n",
        "\n",
        "С помощью дистрибутивных векторных моделей можно строить семантические пропорции (они же аналогии) и решать примеры:\n",
        "\n",
        "+ король: мужчина = королева: женщина $\\Rightarrow$\n",
        "+ король - мужчина + женщина = королева\n",
        "\n",
        "![w2v](https://cdn-images-1.medium.com/max/2600/1*sXNXYfAqfLUeiDXPCo130w.png)\n",
        "\n",
        "Ещё про механику с картинками [тут](https://habr.com/ru/post/446530/)\n",
        "\n",
        "#### Зачем это нужно?\n",
        "\n",
        "+ используется для решения семантических задач\n",
        "+ давайте подумаем, для описания каких семантических классов слов дистрибутивная информация особенно важна?\n",
        "+ несколько интересных статей по дистрибутивной семантике:\n",
        "\n",
        "* [Turney and Pantel 2010](https://jair.org/index.php/jair/article/view/10640)\n",
        "* [Lenci 2018](https://www.annualreviews.org/doi/abs/10.1146/annurev-linguistics-030514-125254?journalCode=linguistics)\n",
        "* [Smith 2019](https://arxiv.org/pdf/1902.06006.pdf)\n",
        "* [Pennington et al. 2014](https://www.aclweb.org/anthology/D14-1162/)\n",
        "* [Faruqui et al. 2015](https://www.aclweb.org/anthology/N15-1184/)\n",
        "\n",
        "+ подаётся на вход нейронным сетям\n",
        "+ используется в Siri, Google Assistant, Alexa, Google Translate...\n",
        "\n",
        "#### Gensim\n",
        "\n",
        "Использовать предобученную модель эмбеддингов или обучить свою можно с помощью библиотеки `gensim`. Вот ее [документация](https://radimrehurek.com/gensim/models/word2vec.html).\n",
        "\n",
        "Если gensim у вас не стоит, то ставим: `pip install gensim`. \n",
        "\n",
        "`Gensim` регулярно обновляется, так что не будет лишним удостовериться, что у вас установлена последняя версия, а при необходимости проапдейтить библиотеку:\n",
        "\n",
        "`pip install gensim --upgrade`\n",
        "\n",
        "или\n",
        "\n",
        "`pip install gensim -U`\n",
        "\n",
        "Поскольку обучение и загрузка моделей могут занимать продолжительное время, иногда бывает полезно вести лог событий. Для этого используется стандартная питоновская библиотека `logging`.\n"
      ],
      "metadata": {
        "id": "iXS3fmb3VEHd"
      }
    },
    {
      "cell_type": "code",
      "execution_count": 2,
      "source": [
        "import sys\n",
        "import gensim, logging\n",
        "\n",
        "logging.basicConfig(format='%(asctime)s : %(levelname)s : %(message)s', level=logging.INFO)"
      ],
      "outputs": [],
      "metadata": {
        "id": "Ez-sfIRwVEHf"
      }
    },
    {
      "cell_type": "code",
      "source": [
        "# Импортируем библиотеки Word2Vec\n",
        "from gensim.models.word2vec import Word2Vec # Собственно модель.\n",
        "from gensim.models import KeyedVectors # Семантические вектора.\n",
        "\n",
        "import numpy as np"
      ],
      "metadata": {
        "id": "QXU0KrWbVFL0"
      },
      "execution_count": 3,
      "outputs": []
    },
    {
      "cell_type": "markdown",
      "source": [
        "#### Как обучить свою модель\n",
        "\n",
        "NB! Обратите внимание, что тренировка модели не включает препроцессинг! Это значит, что избавляться от пунктуации, приводить слова к нижнему регистру, лемматизировать их, проставлять частеречные теги придется до тренировки модели (если, конечно, это необходимо для вашей задачи). Т.е. в каком виде слова будут в исходном тексте, в таком они будут и в модели."
      ],
      "metadata": {
        "id": "KkeVx8z_VEHo"
      }
    },
    {
      "cell_type": "markdown",
      "source": [
        "Инициализируем модель. Основные параметры:\n",
        "\n",
        "+ данные должны быть итерируемым объектом\n",
        "+ vector_size — размер вектора,\n",
        "+ window — размер окна наблюдения,\n",
        "+ min_count — мин. частотность слова в корпусе,\n",
        "+ workers — количество ядер вашего процессора, чтоб запустить обучение в несколько потоков."
      ],
      "metadata": {
        "id": "y9sWIvd_VEIE"
      }
    },
    {
      "cell_type": "code",
      "source": [
        "from gensim.test.utils import common_texts\n",
        "from gensim.models import Word2Vec\n",
        "\n",
        "model = Word2Vec(sentences=common_texts, vector_size=100, window=5, min_count=1, workers=4)\n",
        "\n",
        "model.save(\"word2vec.model\") "
      ],
      "metadata": {
        "colab": {
          "base_uri": "https://localhost:8080/"
        },
        "id": "HX58h0GsQmK7",
        "outputId": "a53d7188-6a14-4576-f645-8e4c31331310"
      },
      "execution_count": 4,
      "outputs": [
        {
          "output_type": "stream",
          "name": "stderr",
          "text": [
            "2022-01-31 05:33:51,660 : INFO : adding document #0 to Dictionary(0 unique tokens: [])\n",
            "2022-01-31 05:33:51,665 : INFO : built Dictionary(12 unique tokens: ['computer', 'human', 'interface', 'response', 'survey']...) from 9 documents (total 29 corpus positions)\n",
            "2022-01-31 05:33:51,672 : INFO : Dictionary lifecycle event {'msg': \"built Dictionary(12 unique tokens: ['computer', 'human', 'interface', 'response', 'survey']...) from 9 documents (total 29 corpus positions)\", 'datetime': '2022-01-31T05:33:51.671997', 'gensim': '4.1.2', 'python': '3.7.12 (default, Sep 10 2021, 00:21:48) \\n[GCC 7.5.0]', 'platform': 'Linux-5.4.144+-x86_64-with-Ubuntu-18.04-bionic', 'event': 'created'}\n",
            "2022-01-31 05:33:51,751 : INFO : collecting all words and their counts\n",
            "2022-01-31 05:33:51,753 : INFO : PROGRESS: at sentence #0, processed 0 words, keeping 0 word types\n",
            "2022-01-31 05:33:51,755 : INFO : collected 12 word types from a corpus of 29 raw words and 9 sentences\n",
            "2022-01-31 05:33:51,757 : INFO : Creating a fresh vocabulary\n",
            "2022-01-31 05:33:51,760 : INFO : Word2Vec lifecycle event {'msg': 'effective_min_count=1 retains 12 unique words (100.0%% of original 12, drops 0)', 'datetime': '2022-01-31T05:33:51.760543', 'gensim': '4.1.2', 'python': '3.7.12 (default, Sep 10 2021, 00:21:48) \\n[GCC 7.5.0]', 'platform': 'Linux-5.4.144+-x86_64-with-Ubuntu-18.04-bionic', 'event': 'prepare_vocab'}\n",
            "2022-01-31 05:33:51,763 : INFO : Word2Vec lifecycle event {'msg': 'effective_min_count=1 leaves 29 word corpus (100.0%% of original 29, drops 0)', 'datetime': '2022-01-31T05:33:51.763048', 'gensim': '4.1.2', 'python': '3.7.12 (default, Sep 10 2021, 00:21:48) \\n[GCC 7.5.0]', 'platform': 'Linux-5.4.144+-x86_64-with-Ubuntu-18.04-bionic', 'event': 'prepare_vocab'}\n",
            "2022-01-31 05:33:51,764 : INFO : deleting the raw counts dictionary of 12 items\n",
            "2022-01-31 05:33:51,766 : INFO : sample=0.001 downsamples 12 most-common words\n",
            "2022-01-31 05:33:51,768 : INFO : Word2Vec lifecycle event {'msg': 'downsampling leaves estimated 3.5001157321504532 word corpus (12.1%% of prior 29)', 'datetime': '2022-01-31T05:33:51.768078', 'gensim': '4.1.2', 'python': '3.7.12 (default, Sep 10 2021, 00:21:48) \\n[GCC 7.5.0]', 'platform': 'Linux-5.4.144+-x86_64-with-Ubuntu-18.04-bionic', 'event': 'prepare_vocab'}\n",
            "2022-01-31 05:33:51,774 : INFO : estimated required memory for 12 words and 100 dimensions: 15600 bytes\n",
            "2022-01-31 05:33:51,776 : INFO : resetting layer weights\n",
            "2022-01-31 05:33:51,778 : INFO : Word2Vec lifecycle event {'update': False, 'trim_rule': 'None', 'datetime': '2022-01-31T05:33:51.778852', 'gensim': '4.1.2', 'python': '3.7.12 (default, Sep 10 2021, 00:21:48) \\n[GCC 7.5.0]', 'platform': 'Linux-5.4.144+-x86_64-with-Ubuntu-18.04-bionic', 'event': 'build_vocab'}\n",
            "2022-01-31 05:33:51,780 : INFO : Word2Vec lifecycle event {'msg': 'training model with 4 workers on 12 vocabulary and 100 features, using sg=0 hs=0 sample=0.001 negative=5 window=5 shrink_windows=True', 'datetime': '2022-01-31T05:33:51.780715', 'gensim': '4.1.2', 'python': '3.7.12 (default, Sep 10 2021, 00:21:48) \\n[GCC 7.5.0]', 'platform': 'Linux-5.4.144+-x86_64-with-Ubuntu-18.04-bionic', 'event': 'train'}\n",
            "2022-01-31 05:33:51,792 : INFO : worker thread finished; awaiting finish of 3 more threads\n",
            "2022-01-31 05:33:51,796 : INFO : worker thread finished; awaiting finish of 2 more threads\n",
            "2022-01-31 05:33:51,797 : INFO : worker thread finished; awaiting finish of 1 more threads\n",
            "2022-01-31 05:33:51,801 : INFO : worker thread finished; awaiting finish of 0 more threads\n",
            "2022-01-31 05:33:51,803 : INFO : EPOCH - 1 : training on 29 raw words (3 effective words) took 0.0s, 257 effective words/s\n",
            "2022-01-31 05:33:51,811 : INFO : worker thread finished; awaiting finish of 3 more threads\n",
            "2022-01-31 05:33:51,814 : INFO : worker thread finished; awaiting finish of 2 more threads\n",
            "2022-01-31 05:33:51,816 : INFO : worker thread finished; awaiting finish of 1 more threads\n",
            "2022-01-31 05:33:51,818 : INFO : worker thread finished; awaiting finish of 0 more threads\n",
            "2022-01-31 05:33:51,820 : INFO : EPOCH - 2 : training on 29 raw words (3 effective words) took 0.0s, 309 effective words/s\n",
            "2022-01-31 05:33:51,836 : INFO : worker thread finished; awaiting finish of 3 more threads\n",
            "2022-01-31 05:33:51,838 : INFO : worker thread finished; awaiting finish of 2 more threads\n",
            "2022-01-31 05:33:51,839 : INFO : worker thread finished; awaiting finish of 1 more threads\n",
            "2022-01-31 05:33:51,843 : INFO : worker thread finished; awaiting finish of 0 more threads\n",
            "2022-01-31 05:33:51,851 : INFO : EPOCH - 3 : training on 29 raw words (1 effective words) took 0.0s, 65 effective words/s\n",
            "2022-01-31 05:33:51,857 : INFO : worker thread finished; awaiting finish of 3 more threads\n",
            "2022-01-31 05:33:51,861 : INFO : worker thread finished; awaiting finish of 2 more threads\n",
            "2022-01-31 05:33:51,862 : INFO : worker thread finished; awaiting finish of 1 more threads\n",
            "2022-01-31 05:33:51,867 : INFO : worker thread finished; awaiting finish of 0 more threads\n",
            "2022-01-31 05:33:51,869 : INFO : EPOCH - 4 : training on 29 raw words (4 effective words) took 0.0s, 320 effective words/s\n",
            "2022-01-31 05:33:51,874 : INFO : worker thread finished; awaiting finish of 3 more threads\n",
            "2022-01-31 05:33:51,878 : INFO : worker thread finished; awaiting finish of 2 more threads\n",
            "2022-01-31 05:33:51,881 : INFO : worker thread finished; awaiting finish of 1 more threads\n",
            "2022-01-31 05:33:51,884 : INFO : worker thread finished; awaiting finish of 0 more threads\n",
            "2022-01-31 05:33:51,886 : INFO : EPOCH - 5 : training on 29 raw words (6 effective words) took 0.0s, 516 effective words/s\n",
            "2022-01-31 05:33:51,887 : INFO : Word2Vec lifecycle event {'msg': 'training on 145 raw words (17 effective words) took 0.1s, 162 effective words/s', 'datetime': '2022-01-31T05:33:51.887641', 'gensim': '4.1.2', 'python': '3.7.12 (default, Sep 10 2021, 00:21:48) \\n[GCC 7.5.0]', 'platform': 'Linux-5.4.144+-x86_64-with-Ubuntu-18.04-bionic', 'event': 'train'}\n",
            "2022-01-31 05:33:51,889 : INFO : Word2Vec lifecycle event {'params': 'Word2Vec(vocab=12, vector_size=100, alpha=0.025)', 'datetime': '2022-01-31T05:33:51.889235', 'gensim': '4.1.2', 'python': '3.7.12 (default, Sep 10 2021, 00:21:48) \\n[GCC 7.5.0]', 'platform': 'Linux-5.4.144+-x86_64-with-Ubuntu-18.04-bionic', 'event': 'created'}\n",
            "2022-01-31 05:33:51,890 : INFO : Word2Vec lifecycle event {'fname_or_handle': 'word2vec.model', 'separately': 'None', 'sep_limit': 10485760, 'ignore': frozenset(), 'datetime': '2022-01-31T05:33:51.890917', 'gensim': '4.1.2', 'python': '3.7.12 (default, Sep 10 2021, 00:21:48) \\n[GCC 7.5.0]', 'platform': 'Linux-5.4.144+-x86_64-with-Ubuntu-18.04-bionic', 'event': 'saving'}\n",
            "2022-01-31 05:33:51,892 : INFO : not storing attribute cum_table\n",
            "2022-01-31 05:33:51,895 : INFO : saved word2vec.model\n"
          ]
        }
      ]
    },
    {
      "cell_type": "code",
      "source": [
        "vector = model.wv['graph']  # get numpy vector of a word\n",
        "\n",
        "print(vector[:10])"
      ],
      "metadata": {
        "colab": {
          "base_uri": "https://localhost:8080/"
        },
        "id": "gE4u0h5vQ-C0",
        "outputId": "de57cadb-334d-47c3-ce48-2cbc78402648"
      },
      "execution_count": 6,
      "outputs": [
        {
          "output_type": "stream",
          "name": "stdout",
          "text": [
            "[-0.14864719  0.06321594  0.08949995  0.09902015  0.12876756 -0.10636206\n",
            "  0.01906639  0.10428586 -0.04897691 -0.10646288]\n"
          ]
        }
      ]
    },
    {
      "cell_type": "code",
      "source": [
        "model.wv.most_similar('human')"
      ],
      "metadata": {
        "colab": {
          "base_uri": "https://localhost:8080/"
        },
        "id": "Sc4zTR6UVIUR",
        "outputId": "94a81f98-55cd-4b98-e9cf-69e56a429814"
      },
      "execution_count": 7,
      "outputs": [
        {
          "output_type": "execute_result",
          "data": {
            "text/plain": [
              "[('trees', 0.17272794246673584),\n",
              " ('eps', 0.16694682836532593),\n",
              " ('response', 0.11118265986442566),\n",
              " ('interface', 0.10940766334533691),\n",
              " ('system', 0.07963485270738602),\n",
              " ('user', 0.04130299761891365),\n",
              " ('survey', 0.0377129502594471),\n",
              " ('graph', 0.00831594318151474),\n",
              " ('minors', -0.0058967843651771545),\n",
              " ('computer', -0.0742427185177803)]"
            ]
          },
          "metadata": {},
          "execution_count": 7
        }
      ]
    },
    {
      "cell_type": "code",
      "source": [
        "model.wv.doesnt_match(['human', 'computer', 'user'])"
      ],
      "metadata": {
        "colab": {
          "base_uri": "https://localhost:8080/",
          "height": 36
        },
        "id": "lNrrB5Q_V0pf",
        "outputId": "cf85273f-6bc7-4f13-fc54-0a883e4f9fb8"
      },
      "execution_count": 8,
      "outputs": [
        {
          "output_type": "execute_result",
          "data": {
            "application/vnd.google.colaboratory.intrinsic+json": {
              "type": "string"
            },
            "text/plain": [
              "'computer'"
            ]
          },
          "metadata": {},
          "execution_count": 8
        }
      ]
    },
    {
      "cell_type": "code",
      "source": [
        "model.wv.most_similar(positive=['user'], negative=['human'])"
      ],
      "metadata": {
        "colab": {
          "base_uri": "https://localhost:8080/"
        },
        "id": "uVLVHrmbWI2P",
        "outputId": "2b16761e-5f66-4631-9168-861757557bb9"
      },
      "execution_count": 9,
      "outputs": [
        {
          "output_type": "execute_result",
          "data": {
            "text/plain": [
              "[('time', 0.0905691534280777),\n",
              " ('graph', 0.04305828735232353),\n",
              " ('survey', 0.026922456920146942),\n",
              " ('eps', -0.025620516389608383),\n",
              " ('minors', -0.02801719680428505),\n",
              " ('computer', -0.06851557642221451),\n",
              " ('interface', -0.06950870156288147),\n",
              " ('response', -0.09015342593193054),\n",
              " ('trees', -0.13451507687568665),\n",
              " ('system', -0.13811412453651428)]"
            ]
          },
          "metadata": {},
          "execution_count": 9
        }
      ]
    },
    {
      "cell_type": "code",
      "source": [
        "model.wv.similarity('user','computer')"
      ],
      "metadata": {
        "colab": {
          "base_uri": "https://localhost:8080/"
        },
        "id": "vQUZx0WmW88W",
        "outputId": "e6bcd2ce-d55f-4004-da18-b5e10672a66b"
      },
      "execution_count": 10,
      "outputs": [
        {
          "output_type": "execute_result",
          "data": {
            "text/plain": [
              "-0.16911626"
            ]
          },
          "metadata": {},
          "execution_count": 10
        }
      ]
    },
    {
      "cell_type": "markdown",
      "source": [
        "#### Параметры варьирования\n",
        "\n",
        "1) препроцессинг -- лемматизировать или нет, например, вдруг мы хотим посмотреть на морфологические пропорции? тогда лемматизировать не нужно\n",
        "\n",
        "2) размер корпуса -- чем больше, тем лучше, но! не для семантических задач -- для них важнее качество\n",
        "\n",
        "3) размер словаря\n",
        "\n",
        "4) negative samples\n",
        "\n",
        "5) количество итераций\n",
        "\n",
        "6) длина вектора -- 100-300 (судя по всему, >300 не сильно улучшает результаты)\n",
        "\n",
        "7) длина окна -- для синтаксических задач, примерно 4, для семантических задач, большое окно, 8, 10.\n",
        "\n",
        "Хорошая статья про сравнение моделей с варьированием параметров: https://www.aclweb.org/anthology/D14-1162.pdf"
      ],
      "metadata": {
        "id": "EZl_fECYVEIh"
      }
    },
    {
      "cell_type": "markdown",
      "source": [
        "#### Как использовать готовую модель\n",
        "\n",
        "#### RusVectōrēs\n",
        "\n",
        "На сайте RusVectōrēs (https://rusvectores.org/ru/) собраны предобученные на различных данных модели для русского языка, а также можно поискать наиболее близкие слова к заданному, посчитать семантическую близость нескольких слов и порешать примеры с помощью «калькулятора семантической близости».\n",
        "\n",
        "Для других языков также можно найти предобученные модели — например, модели [fastText](https://fasttext.cc/docs/en/english-vectors.html) и [GloVe](https://nlp.stanford.edu/projects/glove/)"
      ],
      "metadata": {
        "id": "vPsDlgqQVEIj"
      }
    },
    {
      "cell_type": "markdown",
      "source": [
        "#### Работа с моделью\n",
        "\n",
        "Существуют несколько форматов, в которых могут храниться модели. Во-первых, данные могут храниться в нативном формате word2vec, при этом модель может быть бинарной или не бинарной. Для загрузки модели в формате word2vec в классе `KeyedVectors` (в котором хранится большинство относящихся к дистрибутивным моделям функций) существует функция `load_word2vec_format`, а бинарность модели можно указать в аргументе `binary` (внизу будет пример). Помимо этого, модель можно хранить и в собственном формате gensim, для этого существует класс `Word2Vec` с функцией `load`. Поскольку модели бывают разных форматов, то для них написаны разные функции загрузки; бывает полезно учитывать это в своем скрипте. Наш код определяет тип модели по её расширению, но вообще файл с моделью может называться как угодно, жестких ограничений для расширения нет.\n",
        "\n",
        "Для новых моделей перешли на загрузку с использованием инфраструктуры Nordic Language Processing Laboratory. На практике это означает, что теперь по клику на модель вы скачиваете zip-архив с уникальным числовым идентификатором (например, `220.zip`). Внутри архива всегда находится файл `meta.json`, содержащий в структурированном и стандартном виде информацию о модели и корпусе, на котором она обучена. word2vec-модели лежат в архивах сразу в двух word2vec-форматах: бинарном `model.bin` (удобен для быстрой загрузки) и текстовом `model.txt` (удобен для просмотра человеком). Давайте скачаем [новейшую модель для русского языка](http://vectors.nlpl.eu/repository/20/220.zip) и загрузим её в память. Распаковывать скачанный архив для обычных моделей не нужно, так как его содержимое прочитается при помощи специальной инструкции:"
      ],
      "metadata": {
        "id": "v290agZHVEIk"
      }
    },
    {
      "cell_type": "code",
      "source": [
        "!pip install wget"
      ],
      "metadata": {
        "id": "fy6ROFjhtkjW"
      },
      "execution_count": null,
      "outputs": []
    },
    {
      "cell_type": "code",
      "source": [
        "import zipfile\n",
        "import wget\n",
        "\n",
        "model_url = 'http://vectors.nlpl.eu/repository/20/220.zip'\n",
        "m = wget.download(model_url)\n",
        "model_file = model_url.split('/')[-1]\n",
        "with zipfile.ZipFile(model_file, 'r') as archive:\n",
        "    stream = archive.open('model.bin')\n",
        "    model = gensim.models.KeyedVectors.load_word2vec_format(stream, binary=True)"
      ],
      "metadata": {
        "colab": {
          "base_uri": "https://localhost:8080/"
        },
        "id": "Odgo87YiEh93",
        "outputId": "88622aad-2ee7-479a-fbbc-50b6429e10a6"
      },
      "execution_count": 13,
      "outputs": [
        {
          "output_type": "stream",
          "name": "stderr",
          "text": [
            "2022-01-31 05:37:36,898 : INFO : loading projection weights from <zipfile.ZipExtFile name='model.bin' mode='r' compress_type=deflate>\n",
            "2022-01-31 05:37:42,327 : INFO : KeyedVectors lifecycle event {'msg': 'loaded (249333, 300) matrix of type float32 from <zipfile.ZipExtFile [closed]>', 'binary': True, 'encoding': 'utf8', 'datetime': '2022-01-31T05:37:42.327030', 'gensim': '4.1.2', 'python': '3.7.12 (default, Sep 10 2021, 00:21:48) \\n[GCC 7.5.0]', 'platform': 'Linux-5.4.144+-x86_64-with-Ubuntu-18.04-bionic', 'event': 'load_word2vec_format'}\n"
          ]
        }
      ]
    },
    {
      "cell_type": "markdown",
      "source": [
        "**Мини-исследование**: Давайте протестируем, выделяет ли модель функцию интенсификации в прилагательных? Например, *ужасный курильщик* может интерпретироваться как *человек, который много курит*, а не только как (не столько как) *очень плохой человек-курильщик*. Объединяет ли модель *плохой, ужасный, жуткий, страшный* по отрицательной полярности и объединяет ли она *ужасный, жуткий, страшный* по функции интенсификации? Добавим для сравнения интенсификаторы с узкой дистрибуцией *злостный*, *заядлый* и более сложный модификатор *настоящий*."
      ],
      "metadata": {
        "id": "w3UV2ZV4VEIr"
      }
    },
    {
      "cell_type": "code",
      "execution_count": 14,
      "source": [
        "words = ['хороший_ADJ', 'плохой_ADJ', 'ужасный_ADJ','жуткий_ADJ', 'страшный_ADJ', 'злостный_ADJ', 'заядлый_ADJ', 'настоящий_ADJ', 'красный_ADJ', 'синий_ADJ']"
      ],
      "outputs": [],
      "metadata": {
        "id": "_KWmL5JSVEIs"
      }
    },
    {
      "cell_type": "markdown",
      "source": [
        "Частеречные тэги нужны, поскольку это специфика скачанной модели - она была натренирована на словах, аннотированных их частями речи (и лемматизированных). NB! В названиях моделей на `rusvectores` указано, какой тегсет они используют (mystem, upos и т.д.)\n",
        "\n",
        "Попросим у модели 10 ближайших соседей для каждого слова и коэффициент косинусной близости для каждого:\n"
      ],
      "metadata": {
        "id": "YxKyzxJ_VEIt"
      }
    },
    {
      "cell_type": "code",
      "execution_count": 15,
      "source": [
        "for word in words:\n",
        "    # есть ли слово в модели? \n",
        "    if word in model:\n",
        "        print(word)\n",
        "        # смотрим на вектор слова (его размерность 300, смотрим на первые 10 чисел)\n",
        "        print(model[word][:10])\n",
        "        # выдаем 10 ближайших соседей слова:\n",
        "        for i in model.most_similar(positive=[word], topn=10):\n",
        "            # слово + коэффициент косинусной близости\n",
        "            print(i[0], i[1])\n",
        "        print('\\n')\n",
        "    else:\n",
        "        # Увы!\n",
        "        print('Увы, слова \"%s\" нет в модели!' % word)"
      ],
      "outputs": [
        {
          "output_type": "stream",
          "name": "stdout",
          "text": [
            "хороший_ADJ\n",
            "[-0.5533533   3.525192    1.3954544   0.50957227  0.9530872   0.42150345\n",
            "  0.14798506 -0.89938575 -1.9526412  -2.9605858 ]\n",
            "плохой_ADJ 0.7704135179519653\n",
            "отличный_ADJ 0.745093822479248\n",
            "хороший_ADV 0.7096987962722778\n",
            "неплохой_ADJ 0.7080509662628174\n",
            "хорошо_ADJ 0.685799777507782\n",
            "превосходный_ADJ 0.66509610414505\n",
            "приятный_ADJ 0.6305955052375793\n",
            "хорошо_ADV 0.6236262321472168\n",
            "дурной_ADJ 0.5771215558052063\n",
            "нужный_ADJ 0.5764609575271606\n",
            "\n",
            "\n",
            "плохой_ADJ\n",
            "[ 1.47815     3.4967737   0.6200617   0.21216297 -2.1780734  -0.71112794\n",
            " -0.55119324 -0.8843036  -1.0574621  -2.4701962 ]\n",
            "хороший_ADJ 0.7704134583473206\n",
            "плохой_ADV 0.6875114440917969\n",
            "дурной_ADJ 0.6704886555671692\n",
            "плохо_ADJ 0.6194170117378235\n",
            "скверный_ADJ 0.6098257303237915\n",
            "слабый_ADJ 0.5972127914428711\n",
            "хороший_ADV 0.5740218162536621\n",
            "плохо_ADV 0.5671497583389282\n",
            "неплохой_ADJ 0.5508592128753662\n",
            "неудовлетворительный_ADJ 0.5305141806602478\n",
            "\n",
            "\n",
            "ужасный_ADJ\n",
            "[-0.7115563   0.14254573 -0.9630084  -0.7578321  -0.35663527 -2.2121139\n",
            " -1.0280207   1.6492867   0.29676497 -1.4163486 ]\n",
            "страшный_ADJ 0.8240757584571838\n",
            "жуткий_ADJ 0.7339372038841248\n",
            "ужасать_VERB 0.7301003932952881\n",
            "отвратительный_ADJ 0.7261567115783691\n",
            "чудовищный_ADJ 0.7105397582054138\n",
            "жестокий_ADJ 0.6685523986816406\n",
            "кошмарный_ADJ 0.6566017866134644\n",
            "печальный_ADJ 0.6309635639190674\n",
            "ужас_NOUN 0.6154152750968933\n",
            "невыносимый_ADJ 0.6138052940368652\n",
            "\n",
            "\n",
            "жуткий_ADJ\n",
            "[-2.6076715  -0.55262923  0.40085354  0.53245926 -0.627791   -1.1019641\n",
            " -0.9849679   1.96757     0.7459387  -1.8215437 ]\n",
            "страшный_ADJ 0.7592697143554688\n",
            "ужасный_ADJ 0.7339370846748352\n",
            "зловещий_ADJ 0.7206223607063293\n",
            "жутковатый_ADJ 0.7082728147506714\n",
            "мрачный_ADJ 0.7029562592506409\n",
            "кошмарный_ADJ 0.670348048210144\n",
            "жуть_NOUN 0.6547104716300964\n",
            "странный_ADJ 0.6514071226119995\n",
            "отвратительный_ADJ 0.6419169306755066\n",
            "ужасать_VERB 0.6389007568359375\n",
            "\n",
            "\n",
            "страшный_ADJ\n",
            "[-2.2825887  -1.2624556   1.1256089  -0.6564649  -0.09272972 -2.5593076\n",
            " -1.475779    2.8121662   0.97330487 -1.0684136 ]\n",
            "ужасный_ADJ 0.8240758180618286\n",
            "жуткий_ADJ 0.759269654750824\n",
            "чудовищный_ADJ 0.6618976593017578\n",
            "ужасать_VERB 0.6316395998001099\n",
            "ужас_NOUN 0.6198166012763977\n",
            "жестокий_ADJ 0.614973783493042\n",
            "зловещий_ADJ 0.6030802726745605\n",
            "кровавый_ADJ 0.5815890431404114\n",
            "мрачный_ADJ 0.5714954137802124\n",
            "страшилище_NOUN 0.5660818815231323\n",
            "\n",
            "\n",
            "злостный_ADJ\n",
            "[-0.8018566   0.53365535  0.9388342   0.42214096 -0.034705   -1.7624438\n",
            " -0.3243151   0.05508357 -1.1637828   0.51628727]\n",
            "антиобщественный_ADJ 0.5690264701843262\n",
            "отъявленный_ADJ 0.5499528050422668\n",
            "противозаконный_ADJ 0.5467574596405029\n",
            "злонамеренный_ADJ 0.5460530519485474\n",
            "гнусный_ADJ 0.537264347076416\n",
            "возмутительный_ADJ 0.5236812829971313\n",
            "бессовестный_ADJ 0.5235865116119385\n",
            "тунеядство_NOUN 0.5225642323493958\n",
            "закоренелый_ADJ 0.5143749117851257\n",
            "клевета_NOUN 0.5119363069534302\n",
            "\n",
            "\n",
            "заядлый_ADJ\n",
            "[-1.0557442   3.174858    0.04170933  0.48607656  1.5848101  -1.519017\n",
            "  1.9551884   1.6129477  -3.7156081  -0.4923532 ]\n",
            "заядль_ADJ 0.739905595779419\n",
            "завзятый_ADJ 0.6796776652336121\n",
            "увлечёть_ADJ 0.6125766634941101\n",
            "-любитель_NOUN 0.5000925660133362\n",
            "любитель_NOUN 0.4950098991394043\n",
            "бабник_NOUN 0.48896270990371704\n",
            "увлечённый_ADJ 0.47964927554130554\n",
            "любитель_VERB 0.47332510352134705\n",
            "удачливый_ADJ 0.4703966975212097\n",
            "любимцть_NOUN 0.4673241078853607\n",
            "\n",
            "\n",
            "настоящий_ADJ\n",
            "[-2.8327382   2.4033344   0.83648396 -2.9660728   0.25505313 -1.9906373\n",
            "  2.3057647  -0.05716649  0.3384623  -2.84723   ]\n",
            "незапамятный_ADJ 0.5827018618583679\n",
            "настинский_ADV 0.5312817692756653\n",
            "пространство-_ADJ 0.5166615843772888\n",
            "настинский_NOUN 0.5101050734519958\n",
            "-настоящий_ADJ 0.5050033926963806\n",
            "—настоящий_ADJ 0.5041400194168091\n",
            "долгий_ADJ 0.49191713333129883\n",
            "раунды_PROPN 0.4905624985694885\n",
            "пространства-_ADJ 0.48107337951660156\n",
            "настоящий_NOUN 0.48102235794067383\n",
            "\n",
            "\n",
            "красный_ADJ\n",
            "[ 1.8484586  -2.8723414  -0.46619502 -2.2685125  -2.5031633  -1.0955416\n",
            " -0.6339649   2.7543478   0.505872    0.05006269]\n",
            "*красный_ADJ 0.5675032734870911\n",
            "крайовый_ADJ 0.5446105003356934\n",
            "малиновый_ADJ 0.5436140298843384\n",
            "алый_ADJ 0.5398156046867371\n",
            "белый_ADJ 0.5338898301124573\n",
            "красный_NOUN 0.5177537798881531\n",
            "людова_PROPN 0.5174776315689087\n",
            "красный_PROPN 0.513830304145813\n",
            "малиновой_ADJ 0.49443739652633667\n",
            "черный_ADJ 0.4935334026813507\n",
            "\n",
            "\n",
            "синий_ADJ\n",
            "[ 2.3165712  -2.4371688  -1.9381734   0.4337334  -0.40584928 -0.42849195\n",
            " -0.5164158   2.7145562  -0.58174306 -0.03131035]\n",
            "голубой_ADJ 0.879791796207428\n",
            "желтый_ADJ 0.82841557264328\n",
            "синий_NOUN 0.825542151927948\n",
            "зеленый_ADJ 0.7674750089645386\n",
            "фиолетовый_ADJ 0.7418162822723389\n",
            "оранжевый_ADJ 0.7393277287483215\n",
            "серый_ADJ 0.734974205493927\n",
            "розовый_ADJ 0.7345995306968689\n",
            "жёлтый_ADJ 0.7321051955223083\n",
            "лиловый_ADJ 0.7305857539176941\n",
            "\n",
            "\n"
          ]
        }
      ],
      "metadata": {
        "colab": {
          "base_uri": "https://localhost:8080/"
        },
        "id": "xiZ2jQHEVEIu",
        "outputId": "7e15a71f-5e09-49bb-f7d4-d21bc636f247"
      }
    },
    {
      "cell_type": "markdown",
      "source": [
        "Находим косинусную близость пары слов:"
      ],
      "metadata": {
        "id": "2Mdpu0ztVEIv"
      }
    },
    {
      "cell_type": "code",
      "execution_count": 16,
      "source": [
        "print(model.similarity('плохой_ADJ', 'хороший_ADJ'))"
      ],
      "outputs": [
        {
          "output_type": "stream",
          "name": "stdout",
          "text": [
            "0.7704135\n"
          ]
        }
      ],
      "metadata": {
        "colab": {
          "base_uri": "https://localhost:8080/"
        },
        "id": "37gfNT_-VEIw",
        "outputId": "b3e1166a-89ea-4775-ab1f-d0b8f025d092"
      }
    },
    {
      "cell_type": "code",
      "execution_count": 17,
      "source": [
        "print(model.similarity('плохой_ADJ', 'синий_ADJ'))"
      ],
      "outputs": [
        {
          "output_type": "stream",
          "name": "stdout",
          "text": [
            "0.027845463\n"
          ]
        }
      ],
      "metadata": {
        "colab": {
          "base_uri": "https://localhost:8080/"
        },
        "id": "gF1gSK93VEIy",
        "outputId": "d1bcacaf-5299-406d-e26b-04d506b110a8"
      }
    },
    {
      "cell_type": "code",
      "execution_count": 18,
      "source": [
        "print(model.similarity('плохой_ADJ', 'страшный_ADJ'))"
      ],
      "outputs": [
        {
          "output_type": "stream",
          "name": "stdout",
          "text": [
            "0.3176287\n"
          ]
        }
      ],
      "metadata": {
        "colab": {
          "base_uri": "https://localhost:8080/"
        },
        "outputId": "e490b4d4-f4ad-40fd-ffb4-62e3eb9e0340",
        "id": "yQAZ_fnrY7O8"
      }
    },
    {
      "cell_type": "code",
      "execution_count": 19,
      "source": [
        "print(model.similarity('ужасный_ADJ', 'жуткий_ADJ'))"
      ],
      "outputs": [
        {
          "output_type": "stream",
          "name": "stdout",
          "text": [
            "0.73393726\n"
          ]
        }
      ],
      "metadata": {
        "colab": {
          "base_uri": "https://localhost:8080/"
        },
        "id": "vdIxSXfpVEIz",
        "outputId": "c09e77c3-4dd9-4daa-c05c-1c4eaf8f8fc1"
      }
    },
    {
      "cell_type": "markdown",
      "source": [
        "Попробуем составить пропорцию:\n",
        "\n",
        "+ positive — вектора, которые мы складываем\n",
        "+ negative — вектора, которые вычитаем"
      ],
      "metadata": {
        "id": "IN24380IVEI0"
      }
    },
    {
      "cell_type": "code",
      "execution_count": 20,
      "source": [
        "print(model.most_similar(positive=['плохой_ADJ', 'ужасный_ADJ'], negative=['хороший_ADJ'])[0][0])"
      ],
      "outputs": [
        {
          "output_type": "stream",
          "name": "stdout",
          "text": [
            "страшный_ADJ\n"
          ]
        }
      ],
      "metadata": {
        "colab": {
          "base_uri": "https://localhost:8080/"
        },
        "id": "4_8WiWZpVEI1",
        "outputId": "8c5f319b-dc91-4bfd-92e6-4f308846f94a"
      }
    },
    {
      "cell_type": "markdown",
      "source": [
        "Найди лишнее!"
      ],
      "metadata": {
        "id": "F5VLNFUhVEI2"
      }
    },
    {
      "cell_type": "code",
      "execution_count": 21,
      "source": [
        "print(model.doesnt_match('плохой_ADJ хороший_ADJ ужасный_ADJ страшный_ADJ'.split()))"
      ],
      "outputs": [
        {
          "output_type": "stream",
          "name": "stdout",
          "text": [
            "хороший_ADJ\n"
          ]
        }
      ],
      "metadata": {
        "colab": {
          "base_uri": "https://localhost:8080/"
        },
        "id": "U1Eqd1B2VEI4",
        "outputId": "59bb0082-a5ee-4e78-d217-81c5eac9ef4a"
      }
    },
    {
      "cell_type": "code",
      "execution_count": 22,
      "source": [
        "print(model.doesnt_match('плохой_ADJ ужасный_ADJ страшный_ADJ'.split()))"
      ],
      "outputs": [
        {
          "output_type": "stream",
          "name": "stdout",
          "text": [
            "плохой_ADJ\n"
          ]
        }
      ],
      "metadata": {
        "colab": {
          "base_uri": "https://localhost:8080/"
        },
        "id": "Da5fov1DVEI5",
        "outputId": "5925323e-1c03-4f20-8f63-d8d728383803"
      }
    },
    {
      "cell_type": "code",
      "execution_count": 24,
      "source": [
        "for word, score in model.most_similar(positive=['ужасно_ADV'], negative=['плохой_ADJ']):\n",
        "    print(f'{score:.2}\\t{word}')"
      ],
      "outputs": [
        {
          "output_type": "stream",
          "name": "stdout",
          "text": [
            "0.56\tстрашно_ADV\n",
            "0.49\tбезумно_ADV\n",
            "0.45\tнесказанно_ADV\n",
            "0.43\tбезмерно_ADV\n",
            "0.43\tнеимоверно_ADV\n",
            "0.4\tдонельзя_ADV\n",
            "0.4\tнеобыкновенно_ADV\n",
            "0.39\tчрезвычайный_ADV\n",
            "0.39\tчрезвычайность_NOUN\n",
            "0.38\tжутко_ADV\n"
          ]
        }
      ],
      "metadata": {
        "colab": {
          "base_uri": "https://localhost:8080/"
        },
        "id": "XJndzvCqVEI6",
        "outputId": "a74b3dec-909a-4590-9c17-ae9a18fda3a8"
      }
    },
    {
      "cell_type": "markdown",
      "source": [
        "Что означают полученные результаты для нашего исследования? Объединяет ли модель *плохой, ужасный, жуткий, страшный* по отрицательной полярности и объединяет ли она *ужасный, жуткий, страшный* по функции интенсификации?"
      ],
      "metadata": {
        "id": "-R0i47cLVEI7"
      }
    },
    {
      "cell_type": "markdown",
      "source": [
        "### Визуализация\n",
        "\n",
        "Можно использовать разные методы того, как преобразовать векторы так, чтобы можно было их поместить на двумерное пространство, например, с помощью PCA. В зависимости от того, относительно какого набора слов вы пытаетесь найти оптимально отображение на двумерное пространство, у вас могут получаться разные результаты"
      ],
      "metadata": {
        "id": "PjRcz2nrVEI8"
      }
    },
    {
      "cell_type": "code",
      "execution_count": 34,
      "source": [
        "from sklearn.decomposition import PCA\n",
        "import matplotlib.pyplot as plt\n",
        "%matplotlib inline"
      ],
      "outputs": [],
      "metadata": {
        "id": "DTpnk9BsVEI9"
      }
    },
    {
      "cell_type": "code",
      "execution_count": 35,
      "source": [
        "words = ['хороший_ADJ', 'плохой_ADJ', 'ужасный_ADJ','жуткий_ADJ', 'страшный_ADJ', 'красный_ADJ', 'синий_ADJ']\n",
        "X = model[words]#model.wv[words]"
      ],
      "outputs": [],
      "metadata": {
        "id": "GVk5tY3WVEI-"
      }
    },
    {
      "cell_type": "code",
      "execution_count": 36,
      "source": [
        "pca = PCA(n_components=2)\n",
        "coords = pca.fit_transform(X)"
      ],
      "outputs": [],
      "metadata": {
        "id": "AhzfL6KisGfj"
      }
    },
    {
      "cell_type": "code",
      "execution_count": 37,
      "source": [
        "plt.scatter(coords[:, 0], coords[:, 1], color='red')\n",
        "plt.title('Words')\n",
        "\n",
        "for i, word in enumerate(words):\n",
        "    plt.annotate(word, xy=(coords[i, 0], coords[i, 1]))\n",
        "plt.show()"
      ],
      "outputs": [
        {
          "output_type": "display_data",
          "data": {
            "image/png": "[encoded data removed]",
            "text/plain": [
              "<Figure size 432x288 with 1 Axes>"
            ]
          },
          "metadata": {
            "needs_background": "light"
          }
        }
      ],
      "metadata": {
        "colab": {
          "base_uri": "https://localhost:8080/",
          "height": 281
        },
        "outputId": "c1ed476a-1229-45f3-84d0-e6d447a38b42",
        "id": "3YuHeqWasJiY"
      }
    },
    {
      "cell_type": "code",
      "execution_count": 38,
      "source": [
        "words = ['хороший_ADJ', 'плохой_ADJ', 'ужасный_ADJ','жуткий_ADJ', 'страшный_ADJ', 'злостный_ADJ', 'заядлый_ADJ', 'настоящий_ADJ', 'красный_ADJ', 'синий_ADJ']\n",
        "X = model[words] #model.wv[words]"
      ],
      "outputs": [],
      "metadata": {
        "id": "QQSBnOH6rt_o"
      }
    },
    {
      "cell_type": "code",
      "execution_count": 39,
      "source": [
        "pca = PCA(n_components=2)\n",
        "coords = pca.fit_transform(X)"
      ],
      "outputs": [],
      "metadata": {
        "id": "QHCQntR-VEI_"
      }
    },
    {
      "cell_type": "code",
      "execution_count": 40,
      "source": [
        "plt.scatter(coords[:, 0], coords[:, 1], color='red')\n",
        "plt.title('Words')\n",
        "\n",
        "for i, word in enumerate(words):\n",
        "    plt.annotate(word, xy=(coords[i, 0], coords[i, 1]))\n",
        "plt.show()"
      ],
      "outputs": [
        {
          "output_type": "display_data",
          "data": {
            "image/png": "[encoded data removed]",
            "text/plain": [
              "<Figure size 432x288 with 1 Axes>"
            ]
          },
          "metadata": {
            "needs_background": "light"
          }
        }
      ],
      "metadata": {
        "colab": {
          "base_uri": "https://localhost:8080/",
          "height": 281
        },
        "id": "hVia6FDvVEJD",
        "outputId": "0d9e40c1-9c7f-406d-ce43-98da08b6031b"
      }
    },
    {
      "cell_type": "code",
      "execution_count": 41,
      "source": [
        "words = ['хороший_ADJ', 'плохой_ADJ', 'ужасный_ADJ','жуткий_ADJ', 'страшный_ADJ', 'злостный_ADJ', 'заядлый_ADJ']\n",
        "X = model[words] #model.wv[words]"
      ],
      "outputs": [],
      "metadata": {
        "id": "3CDzxgXIs3rq"
      }
    },
    {
      "cell_type": "code",
      "execution_count": 42,
      "source": [
        "pca = PCA(n_components=2)\n",
        "coords = pca.fit_transform(X)"
      ],
      "outputs": [],
      "metadata": {
        "id": "S-zdIdw-s_GR"
      }
    },
    {
      "cell_type": "code",
      "execution_count": 43,
      "source": [
        "plt.scatter(coords[:, 0], coords[:, 1], color='red')\n",
        "plt.title('Words')\n",
        "\n",
        "for i, word in enumerate(words):\n",
        "    plt.annotate(word, xy=(coords[i, 0], coords[i, 1]))\n",
        "plt.show()"
      ],
      "outputs": [
        {
          "output_type": "display_data",
          "data": {
            "image/png": "[encoded data removed]",
            "text/plain": [
              "<Figure size 432x288 with 1 Axes>"
            ]
          },
          "metadata": {
            "needs_background": "light"
          }
        }
      ],
      "metadata": {
        "colab": {
          "base_uri": "https://localhost:8080/",
          "height": 281
        },
        "outputId": "d4654878-d9e1-458d-cfe7-43a68ad38c3d",
        "id": "iXyiwv5ptCjO"
      }
    },
    {
      "cell_type": "markdown",
      "source": [
        "#### Оценка\n",
        "\n",
        "Существуют специальные датасеты для оценки качества дистрибутивных моделей. Основных два: один измеряет точность решения задач на аналогии, а второй используется для оценки коэффициента семантической близости.\n",
        "\n",
        "#### Word Similarity\n",
        "\n",
        "Этот метод заключается в том, чтобы оценить, насколько представления о семантической близости слов в модели соотносятся с \"представлениями\" людей.\n",
        "\n",
        "| слово 1    | слово 2    | близость |\n",
        "|------------|------------|----------|\n",
        "| кошка      | собака     | 0.7      | \n",
        "| чашка      | кружка     | 0.9      | \n",
        "\n",
        "Для каждой пары слов из заранее заданного датасета мы можем посчитать косинусное расстояние, и получить список таких значений близости. При этом у нас уже есть список значений близостей, сделанный людьми. Мы можем сравнить эти два списка и понять, насколько они похожи (например, посчитав корреляцию). Эта мера схожести должна говорить о том, насколько модель хорошо моделирует расстояния о слова.\n",
        "\n",
        "#### Аналогии\n",
        "\n",
        "Другая популярная задача для \"внутренней\" оценки называется задачей поиска аналогий. Как мы уже разбирали выше, с помощью простых арифметических операций мы можем модифицировать значение слова. Если заранее собрать набор слов-модификаторов, а также слов, которые мы хотим получить в результаты модификации, то на основе подсчёта количества \"попаданий\" в желаемое слово мы можем оценить, насколько хорошо работает модель.\n",
        "\n",
        "В качестве слов-модификатор мы можем использовать семантические аналогии. Скажем, если у нас есть некоторое отношение \"страна-столица\", то для оценки модели мы можем использовать пары наподобие \"Россия-Москва\", \"Норвегия-Осло\", и т.д. Датасет будет выглядеть следующм образом:\n",
        "\n",
        "| слово 1    | слово 2    | отношение     | \n",
        "|------------|------------|---------------|\n",
        "| Россия     | Москва     | страна-столица| \n",
        "| Норвегия   | Осло       | страна-столица|\n",
        "\n",
        "Рассматривая случайные две пары из этого набора, мы хотим, имея триплет (Россия, Москва, Норвегия) хотим получить слово \"Осло\", т.е. найти такое слово, которое будет находиться в том же отношении со словом \"Норвегия\", как \"Россия\" находится с Москвой.\n",
        "\n",
        "[Датасеты для русского языка](https://rusvectores.org/static/testsets/) можно скачать на странице с моделями на RusVectores."
      ],
      "metadata": {
        "id": "TAJ4CiDDVEJJ"
      }
    }
  ]
}